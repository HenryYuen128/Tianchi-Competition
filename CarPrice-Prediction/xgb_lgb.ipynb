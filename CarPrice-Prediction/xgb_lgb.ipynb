{
 "cells": [
  {
   "cell_type": "code",
   "execution_count": 1,
   "metadata": {
    "ExecuteTime": {
     "end_time": "2020-08-27T16:03:14.363013Z",
     "start_time": "2020-08-27T16:03:08.651650Z"
    }
   },
   "outputs": [],
   "source": [
    "# 加载模块\n",
    "import warnings\n",
    "warnings.filterwarnings('ignore')\n",
    "import pandas as pd\n",
    "import numpy as np\n",
    "import matplotlib.pyplot as plt\n",
    "import seaborn as sns\n",
    "from sklearn.model_selection import KFold\n",
    "from lightgbm.sklearn import LGBMRegressor\n",
    "from xgboost.sklearn import XGBRegressor\n",
    "from sklearn.metrics import mean_squared_error, mean_absolute_error\n",
    "import time\n",
    "from sklearn.model_selection import GridSearchCV"
   ]
  },
  {
   "cell_type": "code",
   "execution_count": 3,
   "metadata": {
    "ExecuteTime": {
     "end_time": "2020-08-27T16:03:41.330489Z",
     "start_time": "2020-08-27T16:03:36.048932Z"
    }
   },
   "outputs": [],
   "source": [
    "df = pd.read_csv('./data/sample_data.gz')\n",
    "df1 = df.copy()"
   ]
  },
  {
   "cell_type": "code",
   "execution_count": 4,
   "metadata": {
    "ExecuteTime": {
     "end_time": "2020-08-27T16:03:50.259559Z",
     "start_time": "2020-08-27T16:03:49.856423Z"
    }
   },
   "outputs": [
    {
     "name": "stdout",
     "output_type": "stream",
     "text": [
      "test information:\n",
      "<class 'pandas.core.frame.DataFrame'>\n",
      "Int64Index: 50000 entries, 150000 to 199999\n",
      "Columns: 144 entries, SaleID to new14*year\n",
      "dtypes: float64(105), int64(37), object(2)\n",
      "memory usage: 55.3+ MB\n",
      "X_train information:\n",
      "<class 'pandas.core.frame.DataFrame'>\n",
      "Int64Index: 150000 entries, 0 to 149999\n",
      "Columns: 139 entries, model to new14*year\n",
      "dtypes: float64(104), int64(35)\n",
      "memory usage: 160.2 MB\n"
     ]
    }
   ],
   "source": [
    "test = df1[df1['price'].isnull()]\n",
    "X_train = df1[df1['price'].notnull()].drop(['price','regDate','creatDate','SaleID','regionCode'],axis=1)\n",
    "Y_train = df1[df1['price'].notnull()]['price']\n",
    "X_test = df1[df1['price'].isnull()].drop(['price','regDate','creatDate','SaleID','regionCode'],axis=1)\n",
    "print(\"test information:\")\n",
    "test.info()\n",
    "print(\"X_train information:\")\n",
    "X_train.info()"
   ]
  },
  {
   "cell_type": "code",
   "execution_count": 6,
   "metadata": {
    "ExecuteTime": {
     "end_time": "2020-08-27T18:24:48.078188Z",
     "start_time": "2020-08-27T17:14:57.320323Z"
    }
   },
   "outputs": [
    {
     "name": "stdout",
     "output_type": "stream",
     "text": [
      "--------------------- 1 fold ---------------------\n",
      "val mae: 458.37453299308913\n",
      "--------------------- 2 fold ---------------------\n",
      "val mae: 458.6727836807148\n",
      "--------------------- 3 fold ---------------------\n",
      "val mae: 464.8628969892603\n",
      "--------------------- 4 fold ---------------------\n",
      "val mae: 458.7475290688512\n",
      "--------------------- 5 fold ---------------------\n",
      "val mae: 459.2733296111283\n",
      "MAE of val with lgb: 459.98621446860875\n"
     ]
    }
   ],
   "source": [
    "skf = KFold(n_splits=5)\n",
    "\n",
    "param = {}\n",
    "param['gpu_id'] = 0\n",
    "param['tree_method'] = 'gpu_hist'\n",
    "clf = LGBMRegressor(\n",
    "    n_estimators=10000,\n",
    "    learning_rate=0.02,\n",
    "    boosting_type= 'gbdt',\n",
    "    objective = 'regression_l1',\n",
    "    max_depth = -1,\n",
    "    num_leaves=31,\n",
    "    min_child_samples = 20,\n",
    "    feature_fraction = 0.8,\n",
    "    bagging_freq = 1,\n",
    "    bagging_fraction = 0.8,\n",
    "    lambda_l2 = 2,\n",
    "    random_state=2020,\n",
    "    metric='mae',\n",
    "    device = 'gpu'\n",
    ")\n",
    "\n",
    "\n",
    "lgb_mae = 0\n",
    "sub_lgb = 0\n",
    "#交叉验证\n",
    "for i, (trn_idx, val_idx) in enumerate(skf.split(X_train, Y_train)):\n",
    "    print('--------------------- {} fold ---------------------'.format(i+1))\n",
    "    trn_x, trn_y = X_train.iloc[trn_idx].reset_index(drop=True), Y_train[trn_idx]\n",
    "    val_x, val_y = X_train.iloc[val_idx].reset_index(drop=True), Y_train[val_idx]\n",
    "    # fit函数参数：eval_set=[(x_test,y_test)]  评估数据集,list类型,eval_set用来作为早期停止的验证集，一般我们放x_test和y_test\n",
    "    # fit函数参数：eval_metric=\"mlogloss\"      评估标准(多分类问题，使用mlogloss作为损失函数)\n",
    "    # fit函数参数：early_stopping_rounds= 10   如果模型的loss十次内没有减小，则提前结束模型训练\n",
    "    # fit函数参数：verbose = True              True显示，False不显示\n",
    "    #import pdb;pdb.set_trace()\n",
    "    clf.fit(\n",
    "        trn_x, trn_y,\n",
    "        eval_set=[(val_x, val_y)], \n",
    "                eval_metric='mae',\n",
    "        early_stopping_rounds=300,\n",
    "        #verbose_eval=300\n",
    "        verbose=False\n",
    "    )\n",
    "    \n",
    "    sub_lgb += np.expm1(clf.predict(X_test)) / skf.n_splits\n",
    "    val_lgb = clf.predict(val_x)\n",
    "    print('val mae:', mean_absolute_error(np.expm1(val_y), np.expm1(val_lgb)))\n",
    "    lgb_mae += mean_absolute_error(np.expm1(val_y), np.expm1(val_lgb))/skf.n_splits\n",
    "print('MAE of val with lgb:', lgb_mae)"
   ]
  },
  {
   "cell_type": "code",
   "execution_count": null,
   "metadata": {},
   "outputs": [],
   "source": []
  },
  {
   "cell_type": "code",
   "execution_count": 37,
   "metadata": {
    "ExecuteTime": {
     "end_time": "2020-08-25T14:01:31.005338Z",
     "start_time": "2020-08-25T14:01:30.769461Z"
    }
   },
   "outputs": [],
   "source": []
  },
  {
   "cell_type": "code",
   "execution_count": 38,
   "metadata": {
    "ExecuteTime": {
     "end_time": "2020-08-25T14:01:34.986439Z",
     "start_time": "2020-08-25T14:01:34.825141Z"
    }
   },
   "outputs": [],
   "source": []
  },
  {
   "cell_type": "code",
   "execution_count": null,
   "metadata": {},
   "outputs": [],
   "source": []
  },
  {
   "cell_type": "code",
   "execution_count": null,
   "metadata": {},
   "outputs": [],
   "source": []
  },
  {
   "cell_type": "code",
   "execution_count": null,
   "metadata": {},
   "outputs": [],
   "source": []
  },
  {
   "cell_type": "code",
   "execution_count": null,
   "metadata": {},
   "outputs": [],
   "source": []
  },
  {
   "cell_type": "code",
   "execution_count": null,
   "metadata": {},
   "outputs": [],
   "source": []
  },
  {
   "cell_type": "code",
   "execution_count": 7,
   "metadata": {
    "ExecuteTime": {
     "end_time": "2020-08-27T21:11:15.178092Z",
     "start_time": "2020-08-27T18:24:48.082178Z"
    }
   },
   "outputs": [
    {
     "name": "stdout",
     "output_type": "stream",
     "text": [
      "--------------------- 1 fold ---------------------\n",
      "--------------------- 2 fold ---------------------\n",
      "--------------------- 3 fold ---------------------\n",
      "--------------------- 4 fold ---------------------\n",
      "--------------------- 5 fold ---------------------\n",
      "MAE of val with xgb: 509.85574668451943\n"
     ]
    }
   ],
   "source": [
    "xlf= XGBRegressor(tree_method='gpu_hist', gpu_id='0', n_estimators=1000, gamma=0, subsample=0.8,\\\n",
    "        colsample_bytree=0.9, max_depth=7)#, objective ='reg:squarederror'\n",
    "param_grid = {\n",
    "        'learning_rate': [0.01, 0.05, 0.1, 0.2],\n",
    "    }\n",
    "gbm = GridSearchCV(xlf, param_grid)\n",
    "xgb_mae = 0\n",
    "sub_xgb = 0\n",
    "for i, (trn_idx, val_idx) in enumerate(skf.split(X_train, Y_train)):\n",
    "    print('--------------------- {} fold ---------------------'.format(i+1))\n",
    "    trn_x, trn_y = X_train.iloc[trn_idx].reset_index(drop=True), Y_train[trn_idx]\n",
    "    val_x, val_y = X_train.iloc[val_idx].reset_index(drop=True), Y_train[val_idx]\n",
    "    # fit函数参数：eval_set=[(x_test,y_test)]  评估数据集,list类型,eval_set用来作为早期停止的验证集，一般我们放x_test和y_test\n",
    "    # fit函数参数：eval_metric=\"mlogloss\"      评估标准(多分类问题，使用mlogloss作为损失函数)\n",
    "    # fit函数参数：early_stopping_rounds= 10   如果模型的loss十次内没有减小，则提前结束模型训练\n",
    "    # fit函数参数：verbose = True              True显示，False不显示\n",
    "    gbm.fit(\n",
    "        trn_x, trn_y,\n",
    "        eval_set=[(val_x, val_y)], \n",
    "                eval_metric='mae',\n",
    "        early_stopping_rounds=300,\n",
    "        verbose=False\n",
    "    )\n",
    "    sub_xgb += np.expm1(gbm.predict(X_test)) / skf.n_splits\n",
    "    val_xgb= gbm.predict(val_x)\n",
    "    #print('val mae:', mean_absolute_error(np.expm1(val_y), np.expm1(val_xgb)))\n",
    "    xgb_mae += mean_absolute_error(np.expm1(val_y), np.expm1(val_xgb))/skf.n_splits\n",
    "print('MAE of val with xgb:', xgb_mae)"
   ]
  },
  {
   "cell_type": "code",
   "execution_count": 8,
   "metadata": {
    "ExecuteTime": {
     "end_time": "2020-08-28T04:30:03.738203Z",
     "start_time": "2020-08-28T04:30:03.669187Z"
    }
   },
   "outputs": [
    {
     "data": {
      "text/plain": [
       "array([1258.11720694, 1953.9416682 , 8372.53365622, ..., 5560.60565637,\n",
       "       4771.6679077 , 5163.25814832])"
      ]
     },
     "execution_count": 8,
     "metadata": {},
     "output_type": "execute_result"
    }
   ],
   "source": [
    "sub_Weighted = (1-lgb_mae/(xgb_mae+lgb_mae))*sub_lgb+(1-xgb_mae/(xgb_mae+lgb_mae))*sub_xgb\n",
    "sub_Weighted"
   ]
  },
  {
   "cell_type": "code",
   "execution_count": 9,
   "metadata": {
    "ExecuteTime": {
     "end_time": "2020-08-28T04:30:29.769134Z",
     "start_time": "2020-08-28T04:30:29.303463Z"
    }
   },
   "outputs": [],
   "source": [
    "res = {}\n",
    "res['SaleID'] = test['SaleID']\n",
    "res['price'] = sub_Weighted\n",
    "\n",
    "res_df = pd.DataFrame(res)\n",
    "\n",
    "res_df.to_csv('./data/submit_weighted.csv', index=None)"
   ]
  },
  {
   "cell_type": "code",
   "execution_count": 25,
   "metadata": {
    "ExecuteTime": {
     "end_time": "2020-08-25T13:15:36.573687Z",
     "start_time": "2020-08-25T13:15:36.556595Z"
    }
   },
   "outputs": [
    {
     "data": {
      "text/plain": [
       "array([1302.43386172, 1990.54114532, 8235.71275788, ..., 5644.25605559,\n",
       "       4838.73657645, 4784.86552468])"
      ]
     },
     "execution_count": 25,
     "metadata": {},
     "output_type": "execute_result"
    }
   ],
   "source": [
    "res['price']"
   ]
  },
  {
   "cell_type": "code",
   "execution_count": 10,
   "metadata": {
    "ExecuteTime": {
     "end_time": "2020-08-28T05:04:50.577013Z",
     "start_time": "2020-08-28T05:04:50.572027Z"
    }
   },
   "outputs": [],
   "source": [
    "import pickle"
   ]
  },
  {
   "cell_type": "code",
   "execution_count": 11,
   "metadata": {
    "ExecuteTime": {
     "end_time": "2020-08-28T05:06:22.737434Z",
     "start_time": "2020-08-28T05:06:22.721325Z"
    }
   },
   "outputs": [],
   "source": [
    "save_lgb = open('save_lgb.pkl', 'wb')\n",
    "pickle.dump(lgb_mae, save_lgb)\n",
    "pickle.dump(sub_lgb, save_lgb)\n",
    "save_lgb.close()"
   ]
  },
  {
   "cell_type": "code",
   "execution_count": 12,
   "metadata": {
    "ExecuteTime": {
     "end_time": "2020-08-28T05:08:12.834819Z",
     "start_time": "2020-08-28T05:08:12.817342Z"
    }
   },
   "outputs": [],
   "source": [
    "save_xgb = open('save_xgb.pkl', 'wb')\n",
    "pickle.dump(xgb_mae, save_xgb)\n",
    "pickle.dump(sub_xgb, save_xgb)\n",
    "save_xgb.close()"
   ]
  },
  {
   "cell_type": "code",
   "execution_count": 13,
   "metadata": {
    "ExecuteTime": {
     "end_time": "2020-08-28T05:09:46.814167Z",
     "start_time": "2020-08-28T05:09:45.883082Z"
    }
   },
   "outputs": [],
   "source": [
    "save_lgb_model = open('save_lgb_model.pkl', 'wb')\n",
    "pickle.dump(clf, save_lgb_model)\n",
    "save_lgb_model.close()"
   ]
  },
  {
   "cell_type": "code",
   "execution_count": 14,
   "metadata": {
    "ExecuteTime": {
     "end_time": "2020-08-28T10:38:10.676675Z",
     "start_time": "2020-08-28T10:38:10.665704Z"
    }
   },
   "outputs": [],
   "source": [
    "from lightgbm.sklearn import LGBMRegressor"
   ]
  },
  {
   "cell_type": "code",
   "execution_count": 15,
   "metadata": {
    "ExecuteTime": {
     "end_time": "2020-08-28T10:38:30.719122Z",
     "start_time": "2020-08-28T10:38:30.712139Z"
    }
   },
   "outputs": [],
   "source": [
    "ss = LGBMRegressor()"
   ]
  },
  {
   "cell_type": "code",
   "execution_count": 16,
   "metadata": {
    "ExecuteTime": {
     "end_time": "2020-08-28T10:38:34.395046Z",
     "start_time": "2020-08-28T10:38:34.349148Z"
    }
   },
   "outputs": [
    {
     "ename": "NotFittedError",
     "evalue": "No feature_importances found. Need to call fit beforehand.",
     "output_type": "error",
     "traceback": [
      "\u001b[1;31m---------------------------------------------------------------------------\u001b[0m",
      "\u001b[1;31mNotFittedError\u001b[0m                            Traceback (most recent call last)",
      "\u001b[1;32m<ipython-input-16-9b3bc66424b6>\u001b[0m in \u001b[0;36m<module>\u001b[1;34m\u001b[0m\n\u001b[1;32m----> 1\u001b[1;33m \u001b[0mss\u001b[0m\u001b[1;33m.\u001b[0m\u001b[0mfeature_importances_\u001b[0m\u001b[1;33m\u001b[0m\u001b[1;33m\u001b[0m\u001b[0m\n\u001b[0m",
      "\u001b[1;32mD:\\Anaconda3\\lib\\site-packages\\lightgbm\\sklearn.py\u001b[0m in \u001b[0;36mfeature_importances_\u001b[1;34m(self)\u001b[0m\n\u001b[0;32m    719\u001b[0m         \"\"\"\n\u001b[0;32m    720\u001b[0m         \u001b[1;32mif\u001b[0m \u001b[0mself\u001b[0m\u001b[1;33m.\u001b[0m\u001b[0m_n_features\u001b[0m \u001b[1;32mis\u001b[0m \u001b[1;32mNone\u001b[0m\u001b[1;33m:\u001b[0m\u001b[1;33m\u001b[0m\u001b[1;33m\u001b[0m\u001b[0m\n\u001b[1;32m--> 721\u001b[1;33m             \u001b[1;32mraise\u001b[0m \u001b[0mLGBMNotFittedError\u001b[0m\u001b[1;33m(\u001b[0m\u001b[1;34m'No feature_importances found. Need to call fit beforehand.'\u001b[0m\u001b[1;33m)\u001b[0m\u001b[1;33m\u001b[0m\u001b[1;33m\u001b[0m\u001b[0m\n\u001b[0m\u001b[0;32m    722\u001b[0m         \u001b[1;32mreturn\u001b[0m \u001b[0mself\u001b[0m\u001b[1;33m.\u001b[0m\u001b[0mbooster_\u001b[0m\u001b[1;33m.\u001b[0m\u001b[0mfeature_importance\u001b[0m\u001b[1;33m(\u001b[0m\u001b[0mimportance_type\u001b[0m\u001b[1;33m=\u001b[0m\u001b[0mself\u001b[0m\u001b[1;33m.\u001b[0m\u001b[0mimportance_type\u001b[0m\u001b[1;33m)\u001b[0m\u001b[1;33m\u001b[0m\u001b[1;33m\u001b[0m\u001b[0m\n\u001b[0;32m    723\u001b[0m \u001b[1;33m\u001b[0m\u001b[0m\n",
      "\u001b[1;31mNotFittedError\u001b[0m: No feature_importances found. Need to call fit beforehand."
     ]
    }
   ],
   "source": [
    "ss.feature_importances_"
   ]
  }
 ],
 "metadata": {
  "kernelspec": {
   "display_name": "Python 3",
   "language": "python",
   "name": "python3"
  },
  "language_info": {
   "codemirror_mode": {
    "name": "ipython",
    "version": 3
   },
   "file_extension": ".py",
   "mimetype": "text/x-python",
   "name": "python",
   "nbconvert_exporter": "python",
   "pygments_lexer": "ipython3",
   "version": "3.7.4"
  },
  "latex_envs": {
   "LaTeX_envs_menu_present": true,
   "autoclose": false,
   "autocomplete": true,
   "bibliofile": "biblio.bib",
   "cite_by": "apalike",
   "current_citInitial": 1,
   "eqLabelWithNumbers": true,
   "eqNumInitial": 1,
   "hotkeys": {
    "equation": "Ctrl-E",
    "itemize": "Ctrl-I"
   },
   "labels_anchors": false,
   "latex_user_defs": false,
   "report_style_numbering": false,
   "user_envs_cfg": false
  },
  "toc": {
   "base_numbering": 1,
   "nav_menu": {},
   "number_sections": true,
   "sideBar": true,
   "skip_h1_title": false,
   "title_cell": "Table of Contents",
   "title_sidebar": "Contents",
   "toc_cell": false,
   "toc_position": {},
   "toc_section_display": true,
   "toc_window_display": false
  }
 },
 "nbformat": 4,
 "nbformat_minor": 4
}
