{
 "cells": [
  {
   "cell_type": "code",
   "execution_count": 13,
   "metadata": {
    "ExecuteTime": {
     "end_time": "2020-08-25T07:20:55.931988Z",
     "start_time": "2020-08-25T07:20:55.928000Z"
    }
   },
   "outputs": [],
   "source": [
    "import warnings\n",
    "warnings.filterwarnings('ignore')\n",
    "import pandas as pd\n",
    "import numpy as np\n",
    "import matplotlib.pyplot as plt\n",
    "import seaborn as sns\n",
    "from sklearn.model_selection import KFold\n",
    "from lightgbm.sklearn import LGBMRegressor\n",
    "from xgboost.sklearn import XGBRegressor\n",
    "from sklearn.metrics import mean_squared_error, mean_absolute_error\n",
    "import time\n",
    "from sklearn.model_selection import GridSearchCV"
   ]
  },
  {
   "cell_type": "code",
   "execution_count": 14,
   "metadata": {
    "ExecuteTime": {
     "end_time": "2020-08-25T07:20:58.313123Z",
     "start_time": "2020-08-25T07:20:55.932986Z"
    }
   },
   "outputs": [],
   "source": [
    "data = pd.read_csv('data/data_for_tree_polyfeat.gz')\n"
   ]
  },
  {
   "cell_type": "code",
   "execution_count": 15,
   "metadata": {
    "ExecuteTime": {
     "end_time": "2020-08-25T07:20:58.320786Z",
     "start_time": "2020-08-25T07:20:58.314120Z"
    }
   },
   "outputs": [
    {
     "data": {
      "text/plain": [
       "Index(['SaleID', 'brand', 'creatDate', 'kilometer', 'model', 'name', 'power',\n",
       "       'price', 'regDate', 'regionCode', 'train', 'v_0', 'v_1', 'v_10', 'v_11',\n",
       "       'v_12', 'v_13', 'v_14', 'v_2', 'v_3', 'v_4', 'v_5', 'v_6', 'v_7', 'v_8',\n",
       "       'v_9', 'used_days', 'brand_amount', 'brand_price_avg',\n",
       "       'brand_price_max', 'brand_price_median', 'brand_price_min',\n",
       "       'brand_price_std', 'brand_price_sum', 'model_amount', 'model_price_avg',\n",
       "       'model_price_max', 'model_price_median', 'model_price_min',\n",
       "       'model_price_std', 'model_price_sum', 'bodyType_0.0', 'bodyType_1.0',\n",
       "       'bodyType_2.0', 'bodyType_3.0', 'bodyType_4.0', 'bodyType_5.0',\n",
       "       'bodyType_6.0', 'bodyType_7.0', 'fuelType_0.0', 'fuelType_1.0',\n",
       "       'fuelType_2.0', 'fuelType_3.0', 'fuelType_4.0', 'fuelType_5.0',\n",
       "       'fuelType_6.0', 'gearbox_0.0', 'gearbox_1.0', 'notRepairedDamage_0.0',\n",
       "       'notRepairedDamage_1.0', 'power_bin_0.0', 'power_bin_1.0',\n",
       "       'power_bin_2.0', 'power_bin_3.0', 'power_bin_4.0', 'power_bin_5.0',\n",
       "       'power_bin_6.0', 'power_bin_7.0', 'power_bin_8.0', 'power_bin_9.0',\n",
       "       'power_bin_10.0', 'power_bin_11.0', 'power_bin_12.0', 'power_bin_13.0',\n",
       "       'power_bin_14.0', 'power_bin_15.0', 'power_bin_16.0', 'power_bin_17.0',\n",
       "       'power_bin_18.0', 'power_bin_19.0', 'power_bin_20.0', 'power_bin_21.0',\n",
       "       'power_bin_22.0', 'power_bin_23.0', 'power_bin_24.0', 'power_bin_25.0',\n",
       "       'power_bin_26.0', 'power_bin_27.0', 'power_bin_28.0', 'power_bin_29.0',\n",
       "       'city_1.0', 'city_2.0', 'city_3.0', 'city_4.0', 'city_5.0', 'city_6.0',\n",
       "       'city_7.0', 'city_8.0', 'name_count'],\n",
       "      dtype='object')"
      ]
     },
     "execution_count": 15,
     "metadata": {},
     "output_type": "execute_result"
    }
   ],
   "source": [
    "data.columns"
   ]
  },
  {
   "cell_type": "code",
   "execution_count": 16,
   "metadata": {
    "ExecuteTime": {
     "end_time": "2020-08-25T07:20:58.347261Z",
     "start_time": "2020-08-25T07:20:58.323285Z"
    }
   },
   "outputs": [],
   "source": [
    "# 尝试对model进行分桶\n",
    "\n",
    "bin = [i*10 for i in range(24)]\n",
    "data['model_bin'] = pd.cut(data['model'], bin, labels=False)"
   ]
  },
  {
   "cell_type": "code",
   "execution_count": 17,
   "metadata": {
    "ExecuteTime": {
     "end_time": "2020-08-25T07:21:00.169177Z",
     "start_time": "2020-08-25T07:21:00.163191Z"
    }
   },
   "outputs": [
    {
     "data": {
      "text/plain": [
       "0     2.0\n",
       "1     3.0\n",
       "2    11.0\n",
       "3    10.0\n",
       "4    10.0\n",
       "Name: model_bin, dtype: float64"
      ]
     },
     "execution_count": 17,
     "metadata": {},
     "output_type": "execute_result"
    }
   ],
   "source": [
    "data['model_bin'].head()"
   ]
  },
  {
   "cell_type": "code",
   "execution_count": 18,
   "metadata": {
    "ExecuteTime": {
     "end_time": "2020-08-25T07:21:07.771402Z",
     "start_time": "2020-08-25T07:21:07.755495Z"
    }
   },
   "outputs": [],
   "source": [
    "# 加使用年份特征\n",
    "data['used_year'] = round(data['used_days'] / 365, 1)#二手车使用年数"
   ]
  },
  {
   "cell_type": "code",
   "execution_count": 19,
   "metadata": {
    "ExecuteTime": {
     "end_time": "2020-08-25T07:22:50.386784Z",
     "start_time": "2020-08-25T07:22:50.379760Z"
    }
   },
   "outputs": [
    {
     "data": {
      "text/plain": [
       "0    12.0\n",
       "1    13.0\n",
       "2    12.0\n",
       "3    19.5\n",
       "4     4.2\n",
       "Name: used_year, dtype: float64"
      ]
     },
     "execution_count": 19,
     "metadata": {},
     "output_type": "execute_result"
    }
   ],
   "source": [
    "data['used_year'].head()"
   ]
  },
  {
   "cell_type": "code",
   "execution_count": 20,
   "metadata": {
    "ExecuteTime": {
     "end_time": "2020-08-25T07:26:24.835881Z",
     "start_time": "2020-08-25T07:26:24.666577Z"
    }
   },
   "outputs": [],
   "source": [
    "Train_data = data[data['train']==1]"
   ]
  },
  {
   "cell_type": "code",
   "execution_count": 22,
   "metadata": {
    "ExecuteTime": {
     "end_time": "2020-08-25T07:29:35.130207Z",
     "start_time": "2020-08-25T07:29:35.124188Z"
    }
   },
   "outputs": [
    {
     "data": {
      "text/plain": [
       "Index(['SaleID', 'brand', 'creatDate', 'kilometer', 'model', 'name', 'power',\n",
       "       'price', 'regDate', 'regionCode',\n",
       "       ...\n",
       "       'city_2.0', 'city_3.0', 'city_4.0', 'city_5.0', 'city_6.0', 'city_7.0',\n",
       "       'city_8.0', 'name_count', 'model_bin', 'used_year'],\n",
       "      dtype='object', length=101)"
      ]
     },
     "execution_count": 22,
     "metadata": {},
     "output_type": "execute_result"
    }
   ],
   "source": [
    "Train_data.columns"
   ]
  },
  {
   "cell_type": "code",
   "execution_count": 21,
   "metadata": {
    "ExecuteTime": {
     "end_time": "2020-08-25T07:26:47.306025Z",
     "start_time": "2020-08-25T07:26:46.643506Z"
    }
   },
   "outputs": [
    {
     "ename": "KeyError",
     "evalue": "'fuelType'",
     "output_type": "error",
     "traceback": [
      "\u001b[1;31m---------------------------------------------------------------------------\u001b[0m",
      "\u001b[1;31mKeyError\u001b[0m                                  Traceback (most recent call last)",
      "\u001b[1;32m<ipython-input-21-064eb9e8082c>\u001b[0m in \u001b[0;36m<module>\u001b[1;34m\u001b[0m\n\u001b[0;32m      1\u001b[0m \u001b[0mcat_cols\u001b[0m \u001b[1;33m=\u001b[0m \u001b[1;33m[\u001b[0m\u001b[1;34m'kilometer'\u001b[0m\u001b[1;33m,\u001b[0m\u001b[1;34m'fuelType'\u001b[0m\u001b[1;33m,\u001b[0m\u001b[1;34m'bodyType'\u001b[0m\u001b[1;33m]\u001b[0m\u001b[1;33m\u001b[0m\u001b[1;33m\u001b[0m\u001b[0m\n\u001b[0;32m      2\u001b[0m \u001b[1;32mfor\u001b[0m \u001b[0mcol\u001b[0m \u001b[1;32min\u001b[0m \u001b[0mcat_cols\u001b[0m\u001b[1;33m:\u001b[0m\u001b[1;33m\u001b[0m\u001b[1;33m\u001b[0m\u001b[0m\n\u001b[1;32m----> 3\u001b[1;33m     t = Train_data.groupby(col,as_index=False)['price'].agg(\n\u001b[0m\u001b[0;32m      4\u001b[0m         {col+'_count':'count',col+'_price_max':'max',col+'_price_median':'median',\n\u001b[0;32m      5\u001b[0m          col+'_price_min':'min',col+'_price_sum':'sum',col+'_price_std':'std',col+'_price_mean':'mean'})\n",
      "\u001b[1;32mD:\\Anaconda3\\lib\\site-packages\\pandas\\core\\frame.py\u001b[0m in \u001b[0;36mgroupby\u001b[1;34m(self, by, axis, level, as_index, sort, group_keys, squeeze, observed, dropna)\u001b[0m\n\u001b[0;32m   6512\u001b[0m             \u001b[0msqueeze\u001b[0m\u001b[1;33m=\u001b[0m\u001b[0msqueeze\u001b[0m\u001b[1;33m,\u001b[0m\u001b[1;33m\u001b[0m\u001b[1;33m\u001b[0m\u001b[0m\n\u001b[0;32m   6513\u001b[0m             \u001b[0mobserved\u001b[0m\u001b[1;33m=\u001b[0m\u001b[0mobserved\u001b[0m\u001b[1;33m,\u001b[0m\u001b[1;33m\u001b[0m\u001b[1;33m\u001b[0m\u001b[0m\n\u001b[1;32m-> 6514\u001b[1;33m             \u001b[0mdropna\u001b[0m\u001b[1;33m=\u001b[0m\u001b[0mdropna\u001b[0m\u001b[1;33m,\u001b[0m\u001b[1;33m\u001b[0m\u001b[1;33m\u001b[0m\u001b[0m\n\u001b[0m\u001b[0;32m   6515\u001b[0m         )\n\u001b[0;32m   6516\u001b[0m \u001b[1;33m\u001b[0m\u001b[0m\n",
      "\u001b[1;32mD:\\Anaconda3\\lib\\site-packages\\pandas\\core\\groupby\\groupby.py\u001b[0m in \u001b[0;36m__init__\u001b[1;34m(self, obj, keys, axis, level, grouper, exclusions, selection, as_index, sort, group_keys, squeeze, observed, mutated, dropna)\u001b[0m\n\u001b[0;32m    531\u001b[0m                 \u001b[0mobserved\u001b[0m\u001b[1;33m=\u001b[0m\u001b[0mobserved\u001b[0m\u001b[1;33m,\u001b[0m\u001b[1;33m\u001b[0m\u001b[1;33m\u001b[0m\u001b[0m\n\u001b[0;32m    532\u001b[0m                 \u001b[0mmutated\u001b[0m\u001b[1;33m=\u001b[0m\u001b[0mself\u001b[0m\u001b[1;33m.\u001b[0m\u001b[0mmutated\u001b[0m\u001b[1;33m,\u001b[0m\u001b[1;33m\u001b[0m\u001b[1;33m\u001b[0m\u001b[0m\n\u001b[1;32m--> 533\u001b[1;33m                 \u001b[0mdropna\u001b[0m\u001b[1;33m=\u001b[0m\u001b[0mself\u001b[0m\u001b[1;33m.\u001b[0m\u001b[0mdropna\u001b[0m\u001b[1;33m,\u001b[0m\u001b[1;33m\u001b[0m\u001b[1;33m\u001b[0m\u001b[0m\n\u001b[0m\u001b[0;32m    534\u001b[0m             )\n\u001b[0;32m    535\u001b[0m \u001b[1;33m\u001b[0m\u001b[0m\n",
      "\u001b[1;32mD:\\Anaconda3\\lib\\site-packages\\pandas\\core\\groupby\\grouper.py\u001b[0m in \u001b[0;36mget_grouper\u001b[1;34m(obj, key, axis, level, sort, observed, mutated, validate, dropna)\u001b[0m\n\u001b[0;32m    775\u001b[0m                 \u001b[0min_axis\u001b[0m\u001b[1;33m,\u001b[0m \u001b[0mname\u001b[0m\u001b[1;33m,\u001b[0m \u001b[0mlevel\u001b[0m\u001b[1;33m,\u001b[0m \u001b[0mgpr\u001b[0m \u001b[1;33m=\u001b[0m \u001b[1;32mFalse\u001b[0m\u001b[1;33m,\u001b[0m \u001b[1;32mNone\u001b[0m\u001b[1;33m,\u001b[0m \u001b[0mgpr\u001b[0m\u001b[1;33m,\u001b[0m \u001b[1;32mNone\u001b[0m\u001b[1;33m\u001b[0m\u001b[1;33m\u001b[0m\u001b[0m\n\u001b[0;32m    776\u001b[0m             \u001b[1;32melse\u001b[0m\u001b[1;33m:\u001b[0m\u001b[1;33m\u001b[0m\u001b[1;33m\u001b[0m\u001b[0m\n\u001b[1;32m--> 777\u001b[1;33m                 \u001b[1;32mraise\u001b[0m \u001b[0mKeyError\u001b[0m\u001b[1;33m(\u001b[0m\u001b[0mgpr\u001b[0m\u001b[1;33m)\u001b[0m\u001b[1;33m\u001b[0m\u001b[1;33m\u001b[0m\u001b[0m\n\u001b[0m\u001b[0;32m    778\u001b[0m         \u001b[1;32melif\u001b[0m \u001b[0misinstance\u001b[0m\u001b[1;33m(\u001b[0m\u001b[0mgpr\u001b[0m\u001b[1;33m,\u001b[0m \u001b[0mGrouper\u001b[0m\u001b[1;33m)\u001b[0m \u001b[1;32mand\u001b[0m \u001b[0mgpr\u001b[0m\u001b[1;33m.\u001b[0m\u001b[0mkey\u001b[0m \u001b[1;32mis\u001b[0m \u001b[1;32mnot\u001b[0m \u001b[1;32mNone\u001b[0m\u001b[1;33m:\u001b[0m\u001b[1;33m\u001b[0m\u001b[1;33m\u001b[0m\u001b[0m\n\u001b[0;32m    779\u001b[0m             \u001b[1;31m# Add key to exclusions\u001b[0m\u001b[1;33m\u001b[0m\u001b[1;33m\u001b[0m\u001b[1;33m\u001b[0m\u001b[0m\n",
      "\u001b[1;31mKeyError\u001b[0m: 'fuelType'"
     ]
    }
   ],
   "source": [
    "cat_cols = ['kilometer','fuelType','bodyType']\n",
    "for col in cat_cols:\n",
    "    t = Train_data.groupby(col,as_index=False)['price'].agg(\n",
    "        {col+'_count':'count',col+'_price_max':'max',col+'_price_median':'median',\n",
    "         col+'_price_min':'min',col+'_price_sum':'sum',col+'_price_std':'std',col+'_price_mean':'mean'})\n",
    "    data = pd.merge(data,t,on=col,how='left')"
   ]
  }
 ],
 "metadata": {
  "kernelspec": {
   "display_name": "Python 3",
   "language": "python",
   "name": "python3"
  },
  "language_info": {
   "codemirror_mode": {
    "name": "ipython",
    "version": 3
   },
   "file_extension": ".py",
   "mimetype": "text/x-python",
   "name": "python",
   "nbconvert_exporter": "python",
   "pygments_lexer": "ipython3",
   "version": "3.7.4"
  },
  "latex_envs": {
   "LaTeX_envs_menu_present": true,
   "autoclose": false,
   "autocomplete": true,
   "bibliofile": "biblio.bib",
   "cite_by": "apalike",
   "current_citInitial": 1,
   "eqLabelWithNumbers": true,
   "eqNumInitial": 1,
   "hotkeys": {
    "equation": "Ctrl-E",
    "itemize": "Ctrl-I"
   },
   "labels_anchors": false,
   "latex_user_defs": false,
   "report_style_numbering": false,
   "user_envs_cfg": false
  },
  "toc": {
   "base_numbering": 1,
   "nav_menu": {},
   "number_sections": true,
   "sideBar": true,
   "skip_h1_title": false,
   "title_cell": "Table of Contents",
   "title_sidebar": "Contents",
   "toc_cell": false,
   "toc_position": {},
   "toc_section_display": true,
   "toc_window_display": false
  }
 },
 "nbformat": 4,
 "nbformat_minor": 4
}
