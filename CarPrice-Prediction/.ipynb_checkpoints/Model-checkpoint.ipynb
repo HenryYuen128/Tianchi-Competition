{
 "cells": [
  {
   "cell_type": "code",
   "execution_count": 10,
   "metadata": {},
   "outputs": [],
   "source": [
    "# 加载包\n",
    "import numpy as np\n",
    "import xgboost as xgb\n",
    "import pandas as pd\n",
    "from sklearn.model_selection import cross_validate, cross_val_score"
   ]
  },
  {
   "cell_type": "code",
   "execution_count": 2,
   "metadata": {},
   "outputs": [],
   "source": [
    "# 加载树模型数据集\n",
    "tree_data = pd.read_csv('./data/data_for_tree_polyfeat.gz')\n"
   ]
  },
  {
   "cell_type": "code",
   "execution_count": 3,
   "metadata": {},
   "outputs": [
    {
     "name": "stdout",
     "output_type": "stream",
     "text": [
      "(149037, 99)\n",
      "(50000, 99)\n"
     ]
    }
   ],
   "source": [
    "x_train = tree_data[tree_data['train'] == 1]\n",
    "x_test = tree_data[tree_data['train'] == 0]\n",
    "print(x_train.shape)\n",
    "print(x_test.shape)"
   ]
  },
  {
   "cell_type": "code",
   "execution_count": 4,
   "metadata": {},
   "outputs": [
    {
     "data": {
      "text/plain": [
       "Index(['SaleID', 'brand', 'creatDate', 'kilometer', 'model', 'name', 'power',\n",
       "       'price', 'regDate', 'regionCode', 'train', 'v_0', 'v_1', 'v_10', 'v_11',\n",
       "       'v_12', 'v_13', 'v_14', 'v_2', 'v_3', 'v_4', 'v_5', 'v_6', 'v_7', 'v_8',\n",
       "       'v_9', 'used_days', 'brand_amount', 'brand_price_avg',\n",
       "       'brand_price_max', 'brand_price_median', 'brand_price_min',\n",
       "       'brand_price_std', 'brand_price_sum', 'model_amount', 'model_price_avg',\n",
       "       'model_price_max', 'model_price_median', 'model_price_min',\n",
       "       'model_price_std', 'model_price_sum', 'bodyType_0.0', 'bodyType_1.0',\n",
       "       'bodyType_2.0', 'bodyType_3.0', 'bodyType_4.0', 'bodyType_5.0',\n",
       "       'bodyType_6.0', 'bodyType_7.0', 'fuelType_0.0', 'fuelType_1.0',\n",
       "       'fuelType_2.0', 'fuelType_3.0', 'fuelType_4.0', 'fuelType_5.0',\n",
       "       'fuelType_6.0', 'gearbox_0.0', 'gearbox_1.0', 'notRepairedDamage_0.0',\n",
       "       'notRepairedDamage_1.0', 'power_bin_0.0', 'power_bin_1.0',\n",
       "       'power_bin_2.0', 'power_bin_3.0', 'power_bin_4.0', 'power_bin_5.0',\n",
       "       'power_bin_6.0', 'power_bin_7.0', 'power_bin_8.0', 'power_bin_9.0',\n",
       "       'power_bin_10.0', 'power_bin_11.0', 'power_bin_12.0', 'power_bin_13.0',\n",
       "       'power_bin_14.0', 'power_bin_15.0', 'power_bin_16.0', 'power_bin_17.0',\n",
       "       'power_bin_18.0', 'power_bin_19.0', 'power_bin_20.0', 'power_bin_21.0',\n",
       "       'power_bin_22.0', 'power_bin_23.0', 'power_bin_24.0', 'power_bin_25.0',\n",
       "       'power_bin_26.0', 'power_bin_27.0', 'power_bin_28.0', 'power_bin_29.0',\n",
       "       'city_1.0', 'city_2.0', 'city_3.0', 'city_4.0', 'city_5.0', 'city_6.0',\n",
       "       'city_7.0', 'city_8.0', 'name_count'],\n",
       "      dtype='object')"
      ]
     },
     "execution_count": 4,
     "metadata": {},
     "output_type": "execute_result"
    }
   ],
   "source": [
    "x_train.columns"
   ]
  },
  {
   "cell_type": "code",
   "execution_count": 5,
   "metadata": {},
   "outputs": [
    {
     "name": "stdout",
     "output_type": "stream",
     "text": [
      "Wall time: 0 ns\n"
     ]
    }
   ],
   "source": [
    "\n",
    "y_train = x_train['price']"
   ]
  },
  {
   "cell_type": "code",
   "execution_count": 6,
   "metadata": {},
   "outputs": [
    {
     "name": "stdout",
     "output_type": "stream",
     "text": [
      "(149037, 96)\n"
     ]
    }
   ],
   "source": [
    "del x_train['price']\n",
    "del x_train['train']\n",
    "del x_train['SaleID']\n",
    "print(x_train.shape)"
   ]
  },
  {
   "cell_type": "code",
   "execution_count": 7,
   "metadata": {},
   "outputs": [
    {
     "data": {
      "text/plain": [
       "Index(['SaleID', 'brand', 'creatDate', 'kilometer', 'model', 'name', 'power',\n",
       "       'price', 'regDate', 'regionCode', 'train', 'v_0', 'v_1', 'v_10', 'v_11',\n",
       "       'v_12', 'v_13', 'v_14', 'v_2', 'v_3', 'v_4', 'v_5', 'v_6', 'v_7', 'v_8',\n",
       "       'v_9', 'used_days', 'brand_amount', 'brand_price_avg',\n",
       "       'brand_price_max', 'brand_price_median', 'brand_price_min',\n",
       "       'brand_price_std', 'brand_price_sum', 'model_amount', 'model_price_avg',\n",
       "       'model_price_max', 'model_price_median', 'model_price_min',\n",
       "       'model_price_std', 'model_price_sum', 'bodyType_0.0', 'bodyType_1.0',\n",
       "       'bodyType_2.0', 'bodyType_3.0', 'bodyType_4.0', 'bodyType_5.0',\n",
       "       'bodyType_6.0', 'bodyType_7.0', 'fuelType_0.0', 'fuelType_1.0',\n",
       "       'fuelType_2.0', 'fuelType_3.0', 'fuelType_4.0', 'fuelType_5.0',\n",
       "       'fuelType_6.0', 'gearbox_0.0', 'gearbox_1.0', 'notRepairedDamage_0.0',\n",
       "       'notRepairedDamage_1.0', 'power_bin_0.0', 'power_bin_1.0',\n",
       "       'power_bin_2.0', 'power_bin_3.0', 'power_bin_4.0', 'power_bin_5.0',\n",
       "       'power_bin_6.0', 'power_bin_7.0', 'power_bin_8.0', 'power_bin_9.0',\n",
       "       'power_bin_10.0', 'power_bin_11.0', 'power_bin_12.0', 'power_bin_13.0',\n",
       "       'power_bin_14.0', 'power_bin_15.0', 'power_bin_16.0', 'power_bin_17.0',\n",
       "       'power_bin_18.0', 'power_bin_19.0', 'power_bin_20.0', 'power_bin_21.0',\n",
       "       'power_bin_22.0', 'power_bin_23.0', 'power_bin_24.0', 'power_bin_25.0',\n",
       "       'power_bin_26.0', 'power_bin_27.0', 'power_bin_28.0', 'power_bin_29.0',\n",
       "       'city_1.0', 'city_2.0', 'city_3.0', 'city_4.0', 'city_5.0', 'city_6.0',\n",
       "       'city_7.0', 'city_8.0', 'name_count'],\n",
       "      dtype='object')"
      ]
     },
     "execution_count": 7,
     "metadata": {},
     "output_type": "execute_result"
    }
   ],
   "source": [
    "x_test.columns"
   ]
  },
  {
   "cell_type": "code",
   "execution_count": 8,
   "metadata": {},
   "outputs": [
    {
     "name": "stdout",
     "output_type": "stream",
     "text": [
      "(50000, 96)\n"
     ]
    }
   ],
   "source": [
    "del x_test['train']\n",
    "del x_test['price']\n",
    "del x_test['SaleID']\n",
    "print(x_test.shape)"
   ]
  },
  {
   "cell_type": "code",
   "execution_count": 9,
   "metadata": {},
   "outputs": [
    {
     "ename": "NameError",
     "evalue": "name 'y_train' is not defined",
     "output_type": "error",
     "traceback": [
      "\u001b[1;31m---------------------------------------------------------------------------\u001b[0m",
      "\u001b[1;31mNameError\u001b[0m                                 Traceback (most recent call last)",
      "\u001b[1;32m<timed exec>\u001b[0m in \u001b[0;36m<module>\u001b[1;34m\u001b[0m\n",
      "\u001b[1;31mNameError\u001b[0m: name 'y_train' is not defined"
     ]
    }
   ],
   "source": [
    "%%time\n",
    "xgb_model = xgb.XGBRegressor(max_depth=5, learning_rate=0.1, n_estimators=160, silent=False, objective='reg:gamma')\n",
    "\n",
    "cv_results = cross_validate(xgb_model, x_train, y_train, cv=3,scoring=('neg_mean_squared_error'), return_train_score=False)"
   ]
  },
  {
   "cell_type": "code",
   "execution_count": 79,
   "metadata": {},
   "outputs": [
    {
     "data": {
      "text/plain": [
       "0          7.523481\n",
       "1          8.188967\n",
       "2          8.736007\n",
       "3          7.783641\n",
       "4          8.556606\n",
       "5          8.987322\n",
       "6          8.160804\n",
       "7          6.908755\n",
       "8          7.955425\n",
       "9          6.478510\n",
       "10         8.039480\n",
       "11         8.603554\n",
       "12         7.378384\n",
       "13         8.039480\n",
       "14         8.839422\n",
       "15         8.071219\n",
       "16         9.259226\n",
       "17         8.216358\n",
       "18         6.673298\n",
       "19         7.280008\n",
       "20         6.898715\n",
       "21         7.937732\n",
       "22         5.860786\n",
       "23         6.396930\n",
       "24         9.132487\n",
       "25         8.202756\n",
       "26         7.937732\n",
       "27         7.783224\n",
       "28         8.497195\n",
       "29         8.006368\n",
       "            ...    \n",
       "149007     6.803505\n",
       "149008     8.131825\n",
       "149009     6.907755\n",
       "149010     8.160804\n",
       "149011     8.412055\n",
       "149012     8.291797\n",
       "149013     7.090910\n",
       "149014     5.802118\n",
       "149015     8.117014\n",
       "149016     8.517393\n",
       "149017     8.378161\n",
       "149018     9.105091\n",
       "149019     7.601402\n",
       "149020     9.392745\n",
       "149021     8.810012\n",
       "149022     8.343078\n",
       "149023     7.937732\n",
       "149024     8.006701\n",
       "149025     8.922792\n",
       "149026     7.048386\n",
       "149027     6.111467\n",
       "149028    10.124669\n",
       "149029     6.857514\n",
       "149030     8.389360\n",
       "149031     9.601098\n",
       "149032     8.682877\n",
       "149033     9.159152\n",
       "149034     8.922792\n",
       "149035     8.517193\n",
       "149036     8.455531\n",
       "Name: price, Length: 149037, dtype: float64"
      ]
     },
     "execution_count": 79,
     "metadata": {},
     "output_type": "execute_result"
    }
   ],
   "source": [
    "cv_result"
   ]
  },
  {
   "cell_type": "code",
   "execution_count": 41,
   "metadata": {},
   "outputs": [],
   "source": [
    "res = {}\n",
    "res['SaleID'] = tree_data[tree_data['train']==0]['SaleID']\n",
    "res['price'] = ans\n",
    "\n",
    "res_df = pd.DataFrame(res)\n",
    "\n",
    "res_df.to_csv('./data/result.csv', index=None)"
   ]
  },
  {
   "cell_type": "code",
   "execution_count": 48,
   "metadata": {},
   "outputs": [
    {
     "name": "stdout",
     "output_type": "stream",
     "text": [
      "['1', 'x0', 'x1', 'x0 x1']\n",
      "[[1. 1. 3. 3.]\n",
      " [1. 2. 4. 8.]]\n"
     ]
    }
   ],
   "source": [
    "c = {'a':[1,2], 'b':[3,4]}\n",
    "d = pd.DataFrame(c)\n",
    "from sklearn.preprocessing import PolynomialFeatures\n",
    "poly = PolynomialFeatures(2, interaction_only=True)\n",
    "d = poly.fit_transform(d)\n",
    "print(poly.get_feature_names())\n",
    "print(d)"
   ]
  }
 ],
 "metadata": {
  "kernelspec": {
   "display_name": "Python 3",
   "language": "python",
   "name": "python3"
  },
  "language_info": {
   "codemirror_mode": {
    "name": "ipython",
    "version": 3
   },
   "file_extension": ".py",
   "mimetype": "text/x-python",
   "name": "python",
   "nbconvert_exporter": "python",
   "pygments_lexer": "ipython3",
   "version": "3.7.3"
  },
  "latex_envs": {
   "LaTeX_envs_menu_present": true,
   "autoclose": false,
   "autocomplete": true,
   "bibliofile": "biblio.bib",
   "cite_by": "apalike",
   "current_citInitial": 1,
   "eqLabelWithNumbers": true,
   "eqNumInitial": 1,
   "hotkeys": {
    "equation": "Ctrl-E",
    "itemize": "Ctrl-I"
   },
   "labels_anchors": false,
   "latex_user_defs": false,
   "report_style_numbering": false,
   "user_envs_cfg": false
  },
  "toc": {
   "base_numbering": 1,
   "nav_menu": {},
   "number_sections": true,
   "sideBar": true,
   "skip_h1_title": false,
   "title_cell": "Table of Contents",
   "title_sidebar": "Contents",
   "toc_cell": false,
   "toc_position": {},
   "toc_section_display": true,
   "toc_window_display": false
  }
 },
 "nbformat": 4,
 "nbformat_minor": 2
}
