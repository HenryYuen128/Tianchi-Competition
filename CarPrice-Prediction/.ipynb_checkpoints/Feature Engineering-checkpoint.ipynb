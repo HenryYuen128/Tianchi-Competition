{
 "cells": [
  {
   "cell_type": "code",
   "execution_count": 290,
   "metadata": {},
   "outputs": [],
   "source": [
    "import pandas as pd\n",
    "import numpy as np\n",
    "import matplotlib\n",
    "import matplotlib.pyplot as plt\n",
    "import seaborn as sns\n",
    "from operator import itemgetter\n",
    "\n",
    "%matplotlib inline\n",
    "\n",
    "import warnings\n",
    "warnings.filterwarnings(\"ignore\")"
   ]
  },
  {
   "cell_type": "code",
   "execution_count": 291,
   "metadata": {},
   "outputs": [
    {
     "name": "stdout",
     "output_type": "stream",
     "text": [
      "(150000, 31)\n",
      "(50000, 30)\n"
     ]
    }
   ],
   "source": [
    "path = './data/'\n",
    "Train_data = pd.read_csv(path+'used_car_train_20200313.csv', sep=' ')\n",
    "Test_data = pd.read_csv(path+'used_car_testB_20200421.csv', sep=' ')\n",
    "print(Train_data.shape)\n",
    "print(Test_data.shape)"
   ]
  },
  {
   "cell_type": "code",
   "execution_count": 292,
   "metadata": {},
   "outputs": [
    {
     "name": "stdout",
     "output_type": "stream",
     "text": [
      "Index(['SaleID', 'name', 'regDate', 'model', 'brand', 'bodyType', 'fuelType',\n",
      "       'gearbox', 'power', 'kilometer', 'notRepairedDamage', 'regionCode',\n",
      "       'seller', 'offerType', 'creatDate', 'price', 'v_0', 'v_1', 'v_2', 'v_3',\n",
      "       'v_4', 'v_5', 'v_6', 'v_7', 'v_8', 'v_9', 'v_10', 'v_11', 'v_12',\n",
      "       'v_13', 'v_14'],\n",
      "      dtype='object')\n"
     ]
    }
   ],
   "source": [
    "print(Train_data.columns)\n",
    "# print(Train_data.info())"
   ]
  },
  {
   "cell_type": "code",
   "execution_count": 293,
   "metadata": {},
   "outputs": [],
   "source": [
    "numerical_features = ['power', 'kilometer', 'v_0', 'v_1', 'v_2', 'v_3', 'v_4', 'v_5', 'v_6', 'v_7', 'v_8', 'v_9', 'v_10', 'v_11', 'v_12', 'v_13','v_14' ]\n",
    "\n",
    "categorical_features = ['name', 'model', 'brand', 'bodyType', 'fuelType', 'gearbox', 'notRepairedDamage', 'regionCode']"
   ]
  },
  {
   "cell_type": "code",
   "execution_count": 294,
   "metadata": {},
   "outputs": [
    {
     "name": "stdout",
     "output_type": "stream",
     "text": [
      "Handling power\n",
      "# of delete rows: 963\n",
      "# of current rows: 150000\n",
      "Handling kilometer\n",
      "# of delete rows: 963\n",
      "# of current rows: 150000\n",
      "Handling v_0\n",
      "# of delete rows: 963\n",
      "# of current rows: 150000\n",
      "Handling v_1\n",
      "# of delete rows: 963\n",
      "# of current rows: 150000\n",
      "Handling v_2\n",
      "# of delete rows: 963\n",
      "# of current rows: 150000\n",
      "Handling v_3\n",
      "# of delete rows: 963\n",
      "# of current rows: 150000\n",
      "Handling v_4\n",
      "# of delete rows: 963\n",
      "# of current rows: 150000\n",
      "Handling v_5\n",
      "# of delete rows: 963\n",
      "# of current rows: 150000\n",
      "Handling v_6\n",
      "# of delete rows: 963\n",
      "# of current rows: 150000\n",
      "Handling v_7\n",
      "# of delete rows: 963\n",
      "# of current rows: 150000\n",
      "Handling v_8\n",
      "# of delete rows: 963\n",
      "# of current rows: 150000\n",
      "Handling v_9\n",
      "# of delete rows: 963\n",
      "# of current rows: 150000\n",
      "Handling v_10\n",
      "# of delete rows: 963\n",
      "# of current rows: 150000\n",
      "Handling v_11\n",
      "# of delete rows: 963\n",
      "# of current rows: 150000\n",
      "Handling v_12\n",
      "# of delete rows: 963\n",
      "# of current rows: 150000\n",
      "Handling v_13\n",
      "# of delete rows: 963\n",
      "# of current rows: 150000\n",
      "Handling v_14\n",
      "# of delete rows: 963\n",
      "# of current rows: 150000\n"
     ]
    }
   ],
   "source": [
    "# 处理异常值\n",
    "# 使用Tukeys tets方法\n",
    "def handle_outliers(df, col_name, scale=3):\n",
    "    def tukeys_test(df, col_name, scale):\n",
    "        iqr = scale*(df[col_name].quantile(0.75) - df[col_name].quantile(0.25))\n",
    "        min_val = df[col_name].quantile(0.25) - iqr\n",
    "        max_val = df[col_name].quantile(0.75) + iqr\n",
    "          \n",
    "        return min_val, max_val\n",
    "    \n",
    "    \n",
    "    \n",
    "    min_val, max_val = tukeys_test(df, col_name, scale)\n",
    "\n",
    "    del_idx = df[(df[col_name] > max_val) | (df[col_name]<min_val) ].index\n",
    "    \n",
    "    \n",
    "    print(\"# of delete rows: {}\".format(len(del_idx)))\n",
    "    \n",
    "    \n",
    "    Train_data_n = df.drop(del_idx)\n",
    "    print('# of current rows: {}'.format(len(df)))\n",
    "    \n",
    "    return Train_data_n\n",
    "\n",
    "    \n",
    "\n",
    "\n",
    "\n",
    "for fea in numerical_features:\n",
    "    print('Handling {}'.format(fea))\n",
    "    Train_data_n = handle_outliers(Train_data, 'power')"
   ]
  },
  {
   "cell_type": "code",
   "execution_count": 295,
   "metadata": {},
   "outputs": [
    {
     "name": "stdout",
     "output_type": "stream",
     "text": [
      "150000\n",
      "149037\n"
     ]
    }
   ],
   "source": [
    "print(len(Train_data))\n",
    "print(len(Train_data_n))"
   ]
  },
  {
   "cell_type": "code",
   "execution_count": 296,
   "metadata": {},
   "outputs": [],
   "source": [
    "# 特征构造"
   ]
  },
  {
   "cell_type": "code",
   "execution_count": 297,
   "metadata": {},
   "outputs": [],
   "source": [
    "Train_data_n['train']=1\n",
    "Test_data['train']=0\n",
    "merged_data = pd.concat([Train_data_n, Test_data], ignore_index=True)"
   ]
  },
  {
   "cell_type": "code",
   "execution_count": 298,
   "metadata": {},
   "outputs": [
    {
     "name": "stdout",
     "output_type": "stream",
     "text": [
      "(199037, 32)\n"
     ]
    }
   ],
   "source": [
    "print(merged_data.shape)"
   ]
  },
  {
   "cell_type": "code",
   "execution_count": 299,
   "metadata": {},
   "outputs": [
    {
     "name": "stdout",
     "output_type": "stream",
     "text": [
      "0    20040402\n",
      "1    20030301\n",
      "2    20040403\n",
      "3    19960908\n",
      "4    20120103\n",
      "Name: regDate, dtype: int64\n",
      "0    20160404\n",
      "1    20160309\n",
      "2    20160402\n",
      "3    20160312\n",
      "4    20160313\n",
      "Name: creatDate, dtype: int64\n"
     ]
    }
   ],
   "source": [
    "# 创建新特征，出售时间-购买时间\n",
    "print(merged_data['regDate'].head())\n",
    "print(merged_data['creatDate'].head())\n"
   ]
  },
  {
   "cell_type": "code",
   "execution_count": 300,
   "metadata": {},
   "outputs": [],
   "source": [
    "merged_data['used_days'] = (pd.to_datetime(merged_data['creatDate'], format='%Y%m%d', errors='coerce')\n",
    "- pd.to_datetime(merged_data['regDate'], format='%Y%m%d', errors='coerce')).dt.days"
   ]
  },
  {
   "cell_type": "code",
   "execution_count": 301,
   "metadata": {},
   "outputs": [
    {
     "name": "stdout",
     "output_type": "stream",
     "text": [
      "15054 missing values in 'used_days' feature\n"
     ]
    }
   ],
   "source": [
    "print('{} missing values in \\'used_days\\' feature'.format(merged_data['used_days'].isnull().sum()))"
   ]
  },
  {
   "cell_type": "code",
   "execution_count": 302,
   "metadata": {},
   "outputs": [
    {
     "data": {
      "text/plain": [
       "0    1046\n",
       "1    4366\n",
       "2    2806\n",
       "3     434\n",
       "4    6977\n",
       "Name: regionCode, dtype: int64"
      ]
     },
     "execution_count": 302,
     "metadata": {},
     "output_type": "execute_result"
    }
   ],
   "source": [
    "# 邮编提取关键字\n",
    "merged_data['regionCode'].head()"
   ]
  },
  {
   "cell_type": "code",
   "execution_count": 303,
   "metadata": {},
   "outputs": [],
   "source": [
    "# 尝试从邮编中提取城市信息\n",
    "merged_data['city'] = merged_data['regionCode'].apply(lambda x : str(x)[:-3])\n",
    "merged_data = merged_data"
   ]
  },
  {
   "cell_type": "code",
   "execution_count": 304,
   "metadata": {},
   "outputs": [],
   "source": [
    "# 对brand属性作统计\n",
    "# 只使用训练集的做统计，以防止数据泄露"
   ]
  },
  {
   "cell_type": "code",
   "execution_count": 305,
   "metadata": {},
   "outputs": [],
   "source": [
    "Train_data_n_gb = Train_data_n.groupby('brand')\n",
    "all_info={}\n",
    "for brand_name, name_data in Train_data_n_gb:\n",
    "    info={}\n",
    "    curr_data = name_data[name_data['price']>0]\n",
    "    info['brand_amount'] = len(curr_data)\n",
    "    info['brand_price_avg'] = curr_data['price'].mean()\n",
    "    info['brand_price_median'] = curr_data['price'].median()\n",
    "    info['brand_price_min'] = curr_data['price'].min()\n",
    "    info['brand_price_max'] = curr_data['price'].max()\n",
    "    info['brand_price_sum'] = curr_data['price'].sum()\n",
    "    info['brand_price_std'] = curr_data['price'].std()\n",
    "    all_info[brand_name] = info\n",
    "brand_info_df = pd.DataFrame(all_info).T.reset_index().rename(columns={\"index\": \"brand\"})\n",
    "merged_data = merged_data.merge(brand_info_df, how='left', on='brand')\n"
   ]
  },
  {
   "cell_type": "code",
   "execution_count": 306,
   "metadata": {},
   "outputs": [],
   "source": [
    "# 对model属性作统计\n",
    "Train_data_n_gb = Train_data_n.groupby('model')\n",
    "all_info={}\n",
    "for brand_name, name_data in Train_data_n_gb:\n",
    "    info={}\n",
    "    curr_data = name_data[name_data['price']>0]\n",
    "    info['model_amount'] = len(curr_data)\n",
    "    info['model_price_avg'] = curr_data['price'].mean()\n",
    "    info['model_price_median'] = curr_data['price'].median()\n",
    "    info['model_price_min'] = curr_data['price'].min()\n",
    "    info['model_price_max'] = curr_data['price'].max()\n",
    "    info['model_price_sum'] = curr_data['price'].sum()\n",
    "    info['model_price_std'] = curr_data['price'].std()\n",
    "    all_info[brand_name] = info\n",
    "brand_info_df = pd.DataFrame(all_info).T.reset_index().rename(columns={\"index\": \"model\"})\n",
    "merged_data = merged_data.merge(brand_info_df, how='left', on='model')\n"
   ]
  },
  {
   "cell_type": "code",
   "execution_count": 307,
   "metadata": {},
   "outputs": [
    {
     "data": {
      "text/html": [
       "<div>\n",
       "<style scoped>\n",
       "    .dataframe tbody tr th:only-of-type {\n",
       "        vertical-align: middle;\n",
       "    }\n",
       "\n",
       "    .dataframe tbody tr th {\n",
       "        vertical-align: top;\n",
       "    }\n",
       "\n",
       "    .dataframe thead th {\n",
       "        text-align: right;\n",
       "    }\n",
       "</style>\n",
       "<table border=\"1\" class=\"dataframe\">\n",
       "  <thead>\n",
       "    <tr style=\"text-align: right;\">\n",
       "      <th></th>\n",
       "      <th>power_bin</th>\n",
       "      <th>power</th>\n",
       "    </tr>\n",
       "  </thead>\n",
       "  <tbody>\n",
       "    <tr>\n",
       "      <th>0</th>\n",
       "      <td>5.0</td>\n",
       "      <td>60</td>\n",
       "    </tr>\n",
       "    <tr>\n",
       "      <th>1</th>\n",
       "      <td>NaN</td>\n",
       "      <td>0</td>\n",
       "    </tr>\n",
       "    <tr>\n",
       "      <th>2</th>\n",
       "      <td>16.0</td>\n",
       "      <td>163</td>\n",
       "    </tr>\n",
       "    <tr>\n",
       "      <th>3</th>\n",
       "      <td>19.0</td>\n",
       "      <td>193</td>\n",
       "    </tr>\n",
       "    <tr>\n",
       "      <th>4</th>\n",
       "      <td>6.0</td>\n",
       "      <td>68</td>\n",
       "    </tr>\n",
       "  </tbody>\n",
       "</table>\n",
       "</div>"
      ],
      "text/plain": [
       "   power_bin  power\n",
       "0        5.0     60\n",
       "1        NaN      0\n",
       "2       16.0    163\n",
       "3       19.0    193\n",
       "4        6.0     68"
      ]
     },
     "execution_count": 307,
     "metadata": {},
     "output_type": "execute_result"
    }
   ],
   "source": [
    "# 对power进行分桶,对训练集和测试集都实现\n",
    "bin = [i*10 for i in range(31)]\n",
    "merged_data['power_bin'] = pd.cut(data['power'], bin, labels=False)\n",
    "merged_data[['power_bin', 'power']].head()"
   ]
  },
  {
   "cell_type": "code",
   "execution_count": 308,
   "metadata": {},
   "outputs": [],
   "source": [
    "def replaceNotRepairedDamage(df):\n",
    "    df['notRepairedDamage'].replace('-', np.nan, inplace=True)\n",
    "replaceNotRepairedDamage(merged_data)"
   ]
  },
  {
   "cell_type": "code",
   "execution_count": 309,
   "metadata": {},
   "outputs": [],
   "source": [
    "merged_data['notRepairedDamage'] = merged_data[['notRepairedDamage']].astype('float64')"
   ]
  },
  {
   "cell_type": "code",
   "execution_count": 310,
   "metadata": {},
   "outputs": [],
   "source": [
    "del merged_data['seller']\n",
    "del merged_data['offerType']"
   ]
  },
  {
   "cell_type": "code",
   "execution_count": 311,
   "metadata": {},
   "outputs": [
    {
     "data": {
      "text/plain": [
       "32289"
      ]
     },
     "execution_count": 311,
     "metadata": {},
     "output_type": "execute_result"
    }
   ],
   "source": [
    "merged_data['notRepairedDamage'].isnull().sum()"
   ]
  },
  {
   "cell_type": "code",
   "execution_count": 312,
   "metadata": {},
   "outputs": [
    {
     "data": {
      "text/plain": [
       "numpy.float64"
      ]
     },
     "execution_count": 312,
     "metadata": {},
     "output_type": "execute_result"
    }
   ],
   "source": [
    "type(merged_data['notRepairedDamage'][0])"
   ]
  },
  {
   "cell_type": "code",
   "execution_count": 313,
   "metadata": {},
   "outputs": [],
   "source": [
    "merged_data['city'] = pd.to_numeric(merged_data['city'], errors = 'coerce')"
   ]
  },
  {
   "cell_type": "code",
   "execution_count": 314,
   "metadata": {},
   "outputs": [],
   "source": [
    "# 类别型变量独热编码"
   ]
  },
  {
   "cell_type": "code",
   "execution_count": 315,
   "metadata": {},
   "outputs": [],
   "source": [
    "# categorical_features = ['name', 'model', 'brand', 'bodyType', 'fuelType', 'gearbox', 'notRepairedDamage', 'regionCode']\n",
    "# cat_feat_dummy = ['bodyType', 'fuelType']\n",
    "# for feat in categorical_features:\n",
    "#     print(feat)\n",
    "#     print(Train_data_n[feat].value_counts())\n",
    "cate_oht_features = ['bodyType', 'fuelType','gearbox', 'notRepairedDamage', 'power_bin','city']  \n",
    "merged_data = pd.get_dummies(merged_data, columns=cate_oht_features)\n",
    "merged_data['model'] = merged_data['model'].fillna(0)"
   ]
  },
  {
   "cell_type": "code",
   "execution_count": 316,
   "metadata": {},
   "outputs": [],
   "source": [
    "merged_data['name_count'] = merged_data.groupby(['name'])['SaleID'].transform('count')"
   ]
  },
  {
   "cell_type": "code",
   "execution_count": 317,
   "metadata": {},
   "outputs": [],
   "source": [
    "# 对price做Log处理\n",
    "merged_data['price'] = np.log1p(merged_data['price'])"
   ]
  },
  {
   "cell_type": "code",
   "execution_count": 319,
   "metadata": {},
   "outputs": [],
   "source": [
    "# merged_data.info()"
   ]
  },
  {
   "cell_type": "code",
   "execution_count": 321,
   "metadata": {},
   "outputs": [
    {
     "data": {
      "text/plain": [
       "Index(['SaleID', 'brand', 'creatDate', 'kilometer', 'model', 'name', 'power',\n",
       "       'price', 'regDate', 'regionCode', 'train', 'v_0', 'v_1', 'v_10', 'v_11',\n",
       "       'v_12', 'v_13', 'v_14', 'v_2', 'v_3', 'v_4', 'v_5', 'v_6', 'v_7', 'v_8',\n",
       "       'v_9', 'used_days', 'brand_amount', 'brand_price_avg',\n",
       "       'brand_price_max', 'brand_price_median', 'brand_price_min',\n",
       "       'brand_price_std', 'brand_price_sum', 'model_amount', 'model_price_avg',\n",
       "       'model_price_max', 'model_price_median', 'model_price_min',\n",
       "       'model_price_std', 'model_price_sum', 'bodyType_0.0', 'bodyType_1.0',\n",
       "       'bodyType_2.0', 'bodyType_3.0', 'bodyType_4.0', 'bodyType_5.0',\n",
       "       'bodyType_6.0', 'bodyType_7.0', 'fuelType_0.0', 'fuelType_1.0',\n",
       "       'fuelType_2.0', 'fuelType_3.0', 'fuelType_4.0', 'fuelType_5.0',\n",
       "       'fuelType_6.0', 'gearbox_0.0', 'gearbox_1.0', 'notRepairedDamage_0.0',\n",
       "       'notRepairedDamage_1.0', 'power_bin_0.0', 'power_bin_1.0',\n",
       "       'power_bin_2.0', 'power_bin_3.0', 'power_bin_4.0', 'power_bin_5.0',\n",
       "       'power_bin_6.0', 'power_bin_7.0', 'power_bin_8.0', 'power_bin_9.0',\n",
       "       'power_bin_10.0', 'power_bin_11.0', 'power_bin_12.0', 'power_bin_13.0',\n",
       "       'power_bin_14.0', 'power_bin_15.0', 'power_bin_16.0', 'power_bin_17.0',\n",
       "       'power_bin_18.0', 'power_bin_19.0', 'power_bin_20.0', 'power_bin_21.0',\n",
       "       'power_bin_22.0', 'power_bin_23.0', 'power_bin_24.0', 'power_bin_25.0',\n",
       "       'power_bin_26.0', 'power_bin_27.0', 'power_bin_28.0', 'power_bin_29.0',\n",
       "       'city_1.0', 'city_2.0', 'city_3.0', 'city_4.0', 'city_5.0', 'city_6.0',\n",
       "       'city_7.0', 'city_8.0', 'name_count'],\n",
       "      dtype='object')"
      ]
     },
     "execution_count": 321,
     "metadata": {},
     "output_type": "execute_result"
    }
   ],
   "source": [
    "# vo, v3, v8, v12做多项式，观察与Price的相关系数\n",
    "merged_data.columns"
   ]
  },
  {
   "cell_type": "code",
   "execution_count": 323,
   "metadata": {},
   "outputs": [
    {
     "data": {
      "text/html": [
       "<div>\n",
       "<style scoped>\n",
       "    .dataframe tbody tr th:only-of-type {\n",
       "        vertical-align: middle;\n",
       "    }\n",
       "\n",
       "    .dataframe tbody tr th {\n",
       "        vertical-align: top;\n",
       "    }\n",
       "\n",
       "    .dataframe thead th {\n",
       "        text-align: right;\n",
       "    }\n",
       "</style>\n",
       "<table border=\"1\" class=\"dataframe\">\n",
       "  <thead>\n",
       "    <tr style=\"text-align: right;\">\n",
       "      <th></th>\n",
       "      <th>v_0</th>\n",
       "      <th>v_3</th>\n",
       "      <th>v_8</th>\n",
       "      <th>v_12</th>\n",
       "    </tr>\n",
       "  </thead>\n",
       "  <tbody>\n",
       "    <tr>\n",
       "      <th>0</th>\n",
       "      <td>43.357796</td>\n",
       "      <td>2.159744</td>\n",
       "      <td>0.022816</td>\n",
       "      <td>-2.420821</td>\n",
       "    </tr>\n",
       "    <tr>\n",
       "      <th>1</th>\n",
       "      <td>45.305273</td>\n",
       "      <td>1.380657</td>\n",
       "      <td>0.026597</td>\n",
       "      <td>-1.030483</td>\n",
       "    </tr>\n",
       "    <tr>\n",
       "      <th>2</th>\n",
       "      <td>45.978359</td>\n",
       "      <td>-0.998467</td>\n",
       "      <td>0.062173</td>\n",
       "      <td>1.565330</td>\n",
       "    </tr>\n",
       "    <tr>\n",
       "      <th>3</th>\n",
       "      <td>45.687478</td>\n",
       "      <td>0.883600</td>\n",
       "      <td>0.033395</td>\n",
       "      <td>-0.501868</td>\n",
       "    </tr>\n",
       "    <tr>\n",
       "      <th>4</th>\n",
       "      <td>44.383511</td>\n",
       "      <td>-1.571239</td>\n",
       "      <td>0.078819</td>\n",
       "      <td>0.931110</td>\n",
       "    </tr>\n",
       "  </tbody>\n",
       "</table>\n",
       "</div>"
      ],
      "text/plain": [
       "         v_0       v_3       v_8      v_12\n",
       "0  43.357796  2.159744  0.022816 -2.420821\n",
       "1  45.305273  1.380657  0.026597 -1.030483\n",
       "2  45.978359 -0.998467  0.062173  1.565330\n",
       "3  45.687478  0.883600  0.033395 -0.501868\n",
       "4  44.383511 -1.571239  0.078819  0.931110"
      ]
     },
     "execution_count": 323,
     "metadata": {},
     "output_type": "execute_result"
    }
   ],
   "source": [
    "anon_feat = ['v_0', 'v_3', 'v_8', 'v_12']\n",
    "anon_df = merged_data[anon_feat]\n",
    "anon_df.head()"
   ]
  },
  {
   "cell_type": "code",
   "execution_count": 375,
   "metadata": {},
   "outputs": [],
   "source": [
    "from sklearn.preprocessing import PolynomialFeatures\n",
    "poly_scaler = PolynomialFeatures(4, interaction_only=True)\n",
    "mul_feat = poly_scaler.fit_transform(anon_df)"
   ]
  },
  {
   "cell_type": "code",
   "execution_count": 376,
   "metadata": {},
   "outputs": [
    {
     "name": "stdout",
     "output_type": "stream",
     "text": [
      "['1', 'v_0', 'v_3', 'v_8', 'v_12', 'v_0 v_3', 'v_0 v_8', 'v_0 v_12', 'v_3 v_8', 'v_3 v_12', 'v_8 v_12', 'v_0 v_3 v_8', 'v_0 v_3 v_12', 'v_0 v_8 v_12', 'v_3 v_8 v_12', 'v_0 v_3 v_8 v_12']\n"
     ]
    }
   ],
   "source": [
    "feat_name = poly_scaler.get_feature_names(anon_feat)\n",
    "print(feat_name)"
   ]
  },
  {
   "cell_type": "code",
   "execution_count": 377,
   "metadata": {},
   "outputs": [
    {
     "name": "stdout",
     "output_type": "stream",
     "text": [
      "[ 4.33577963e+01  2.15974409e+00  2.28163674e-02 -2.42082079e+00]\n"
     ]
    }
   ],
   "source": [
    "print(mul_feat[0][1:5])"
   ]
  },
  {
   "cell_type": "code",
   "execution_count": 378,
   "metadata": {},
   "outputs": [
    {
     "name": "stdout",
     "output_type": "stream",
     "text": [
      "v_0 v_3\n",
      "v_0 v_8\n",
      "v_0 v_12\n",
      "v_3 v_8\n",
      "v_3 v_12\n",
      "v_8 v_12\n",
      "v_0 v_3 v_8\n",
      "v_0 v_3 v_12\n",
      "v_0 v_8 v_12\n",
      "v_3 v_8 v_12\n",
      "v_0 v_3 v_8 v_12\n"
     ]
    }
   ],
   "source": [
    "info = {}\n",
    "for ii, name in enumerate(feat_name[5:]):\n",
    "    print(name)\n",
    "    info['poly_feat_' + name.strip()] = mul_feat[:,ii+5]\n",
    "\n",
    "mul_feat_df = pd.DataFrame(info)"
   ]
  },
  {
   "cell_type": "code",
   "execution_count": 379,
   "metadata": {},
   "outputs": [
    {
     "name": "stdout",
     "output_type": "stream",
     "text": [
      "(199037, 11)\n",
      "(199037, 99)\n"
     ]
    }
   ],
   "source": [
    "mul_feat_df.head()\n",
    "print(mul_feat_df.shape)\n",
    "print(merged_data.shape)"
   ]
  },
  {
   "cell_type": "code",
   "execution_count": 395,
   "metadata": {},
   "outputs": [
    {
     "data": {
      "text/plain": [
       "poly_feat_v_0 v_3            -0.921635\n",
       "poly_feat_v_0 v_8             0.859377\n",
       "poly_feat_v_0 v_12            0.832402\n",
       "poly_feat_v_3 v_8            -0.785649\n",
       "poly_feat_v_3 v_12            0.011602\n",
       "poly_feat_v_8 v_12            0.673454\n",
       "poly_feat_v_0 v_3 v_8        -0.778799\n",
       "poly_feat_v_0 v_3 v_12       -0.037967\n",
       "poly_feat_v_0 v_8 v_12        0.702136\n",
       "poly_feat_v_3 v_8 v_12       -0.527982\n",
       "poly_feat_v_0 v_3 v_8 v_12   -0.537857\n",
       "price                         1.000000\n",
       "Name: price, dtype: float64"
      ]
     },
     "execution_count": 395,
     "metadata": {},
     "output_type": "execute_result"
    }
   ],
   "source": [
    "pd.concat([mul_feat_df, merged_data['price']], axis=1).corr()['price']"
   ]
  },
  {
   "cell_type": "code",
   "execution_count": 384,
   "metadata": {},
   "outputs": [
    {
     "name": "stdout",
     "output_type": "stream",
     "text": [
      "(199037, 99)\n",
      "(199037, 110)\n"
     ]
    }
   ],
   "source": [
    "merged_data_polyfeat = pd.concat([merged_data, mul_feat_df], axis=1)\n",
    "print(merged_data.shape)\n",
    "print(merged_data_polyfeat.shape)"
   ]
  },
  {
   "cell_type": "code",
   "execution_count": 396,
   "metadata": {},
   "outputs": [],
   "source": [
    "# polymerged_data_polyfeat.filter(regex=(\"poly.*\"))"
   ]
  },
  {
   "cell_type": "code",
   "execution_count": 382,
   "metadata": {},
   "outputs": [
    {
     "data": {
      "text/plain": [
       "<matplotlib.axes._subplots.AxesSubplot at 0x2c20896c898>"
      ]
     },
     "execution_count": 382,
     "metadata": {},
     "output_type": "execute_result"
    },
    {
     "data": {
      "image/png": "[encoded data removed]",
      "text/plain": [
       "<Figure size 432x288 with 2 Axes>"
      ]
     },
     "metadata": {
      "needs_background": "light"
     },
     "output_type": "display_data"
    }
   ],
   "source": [
    "import seaborn as sns\n",
    "sns.heatmap(tmp.corr())"
   ]
  },
  {
   "cell_type": "code",
   "execution_count": 397,
   "metadata": {},
   "outputs": [
    {
     "data": {
      "text/plain": [
       "Index(['SaleID', 'brand', 'creatDate', 'kilometer', 'model', 'name', 'power',\n",
       "       'price', 'regDate', 'regionCode',\n",
       "       ...\n",
       "       'poly_feat_v_0 v_8', 'poly_feat_v_0 v_12', 'poly_feat_v_3 v_8',\n",
       "       'poly_feat_v_3 v_12', 'poly_feat_v_8 v_12', 'poly_feat_v_0 v_3 v_8',\n",
       "       'poly_feat_v_0 v_3 v_12', 'poly_feat_v_0 v_8 v_12',\n",
       "       'poly_feat_v_3 v_8 v_12', 'poly_feat_v_0 v_3 v_8 v_12'],\n",
       "      dtype='object', length=110)"
      ]
     },
     "execution_count": 397,
     "metadata": {},
     "output_type": "execute_result"
    }
   ],
   "source": [
    "merged_data_polyfeat.columns"
   ]
  },
  {
   "cell_type": "code",
   "execution_count": 398,
   "metadata": {},
   "outputs": [
    {
     "data": {
      "text/plain": [
       "(199037, 110)"
      ]
     },
     "execution_count": 398,
     "metadata": {},
     "output_type": "execute_result"
    }
   ],
   "source": [
    "merged_data_polyfeat.shape"
   ]
  },
  {
   "cell_type": "code",
   "execution_count": null,
   "metadata": {},
   "outputs": [],
   "source": []
  },
  {
   "cell_type": "code",
   "execution_count": null,
   "metadata": {},
   "outputs": [],
   "source": []
  },
  {
   "cell_type": "code",
   "execution_count": 399,
   "metadata": {},
   "outputs": [],
   "source": [
    "# 保存数据给树模型用\n",
    "merged_data.to_csv('./data/data_for_tree_polyfeat.gz',compression='gzip', index=0)"
   ]
  },
  {
   "cell_type": "markdown",
   "metadata": {},
   "source": [
    "<h2>继续构造特征给LR或NN使用<h2>"
   ]
  },
  {
   "cell_type": "code",
   "execution_count": null,
   "metadata": {},
   "outputs": [],
   "source": [
    "# 对特征进行归一化处理\n",
    "from sklearn.preprocessing import StandardScaler\n",
    "\n",
    "\n",
    "\n",
    "curr_scaler = StandardScaler()\n",
    "curr_scaler.fit(merged_data[merged_data['train']==1]['power'].values.reshape(-1, 1))\n",
    "curr_scaler.transform(merged_data['power'])\n",
    "\n",
    "\n",
    "\n",
    "# for feat in numerical_features:\n",
    "#     curr_scaler = StandardScaler()\n",
    "#     # reshape成2d array\n",
    "#     curr_scaler.fit(merged_data[merged_data['train']==1][feat].values.reshape(-1, 1))\n",
    "#     curr_scaler.transform"
   ]
  },
  {
   "cell_type": "code",
   "execution_count": null,
   "metadata": {},
   "outputs": [],
   "source": [
    "# 处理缺失值"
   ]
  },
  {
   "cell_type": "code",
   "execution_count": null,
   "metadata": {},
   "outputs": [],
   "source": [
    "Train_data['train']=1\n",
    "Test_data['train']=0\n",
    "data = pd.concat([Train_data, Test_data], ignore_index=True)\n",
    "print(data.columns)"
   ]
  },
  {
   "cell_type": "code",
   "execution_count": null,
   "metadata": {},
   "outputs": [],
   "source": [
    "print('bodyType\\n',Train_data_n['bodyType'].value_counts())\n",
    "print('fuelType\\n',Train_data_n['fuelType'].value_counts())\n",
    "print('gearbox\\n',Train_data_n['gearbox'].value_counts())\n",
    "print('notRepairedDamage\\n',Train_data_n['notRepairedDamage'].value_counts())\n",
    "print('notRepairedDamage\\n',Test_data['notRepairedDamage'].value_counts())"
   ]
  },
  {
   "cell_type": "code",
   "execution_count": null,
   "metadata": {},
   "outputs": [],
   "source": [
    "Train_data_n.isnull().sum()"
   ]
  },
  {
   "cell_type": "code",
   "execution_count": null,
   "metadata": {},
   "outputs": [],
   "source": [
    "Test_data[Test_data['bodyType'].isnull()].head()"
   ]
  },
  {
   "cell_type": "code",
   "execution_count": null,
   "metadata": {},
   "outputs": [],
   "source": [
    "# 处理notRepairedDamage的‘-’缺失值\n",
    "def replaceNotRepairedDamage(df):\n",
    "    df['notRepairedDamage'].replace('-', np.nan, inplace=True)\n",
    "    \n",
    "replaceNotRepairedDamage(Train_data_n)\n",
    "replaceNotRepairedDamage(Test_data)"
   ]
  },
  {
   "cell_type": "code",
   "execution_count": null,
   "metadata": {},
   "outputs": [],
   "source": [
    "print(Train_data_n['notRepairedDamage'].value_counts())"
   ]
  },
  {
   "cell_type": "code",
   "execution_count": null,
   "metadata": {},
   "outputs": [],
   "source": [
    "print(Test_data['notRepairedDamage'].value_counts())"
   ]
  },
  {
   "cell_type": "code",
   "execution_count": null,
   "metadata": {},
   "outputs": [],
   "source": []
  },
  {
   "cell_type": "code",
   "execution_count": null,
   "metadata": {},
   "outputs": [],
   "source": [
    "# 用众数填充gearbox和fueltype属性\n",
    "from sklearn.impute import SimpleImputer\n",
    "imp_mf = SimpleImputer(missing_values=np.nan, strategy='most_frequent')\n",
    "imp_mf.fit(Test_data)\n",
    "\n",
    "# 用训练集fit，用训练的scaler填充训练集和测试集\n",
    "imp_mf.transform(Train_data_n)\n",
    "imp_mf.transform(Test_data)"
   ]
  }
 ],
 "metadata": {
  "kernelspec": {
   "display_name": "Python 3",
   "language": "python",
   "name": "python3"
  },
  "language_info": {
   "codemirror_mode": {
    "name": "ipython",
    "version": 3
   },
   "file_extension": ".py",
   "mimetype": "text/x-python",
   "name": "python",
   "nbconvert_exporter": "python",
   "pygments_lexer": "ipython3",
   "version": "3.7.3"
  },
  "latex_envs": {
   "LaTeX_envs_menu_present": true,
   "autoclose": false,
   "autocomplete": true,
   "bibliofile": "biblio.bib",
   "cite_by": "apalike",
   "current_citInitial": 1,
   "eqLabelWithNumbers": true,
   "eqNumInitial": 1,
   "hotkeys": {
    "equation": "Ctrl-E",
    "itemize": "Ctrl-I"
   },
   "labels_anchors": false,
   "latex_user_defs": false,
   "report_style_numbering": false,
   "user_envs_cfg": false
  },
  "toc": {
   "base_numbering": 1,
   "nav_menu": {},
   "number_sections": true,
   "sideBar": true,
   "skip_h1_title": false,
   "title_cell": "Table of Contents",
   "title_sidebar": "Contents",
   "toc_cell": false,
   "toc_position": {},
   "toc_section_display": true,
   "toc_window_display": false
  }
 },
 "nbformat": 4,
 "nbformat_minor": 2
}
