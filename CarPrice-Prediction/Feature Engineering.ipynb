{
 "cells": [
  {
   "cell_type": "code",
   "execution_count": 1,
   "metadata": {
    "ExecuteTime": {
     "end_time": "2020-08-26T17:53:22.932926Z",
     "start_time": "2020-08-26T17:53:21.845564Z"
    }
   },
   "outputs": [],
   "source": [
    "import pandas as pd\n",
    "import numpy as np\n",
    "import matplotlib\n",
    "import matplotlib.pyplot as plt\n",
    "import seaborn as sns\n",
    "from operator import itemgetter\n",
    "\n",
    "%matplotlib inline\n",
    "\n",
    "import warnings\n",
    "warnings.filterwarnings(\"ignore\")"
   ]
  },
  {
   "cell_type": "code",
   "execution_count": 11,
   "metadata": {
    "ExecuteTime": {
     "end_time": "2020-08-26T17:53:54.458094Z",
     "start_time": "2020-08-26T17:53:53.595731Z"
    }
   },
   "outputs": [
    {
     "name": "stdout",
     "output_type": "stream",
     "text": [
      "(150000, 31)\n",
      "(50000, 30)\n"
     ]
    }
   ],
   "source": [
    "path = './data/'\n",
    "Train_data = pd.read_csv(path+'used_car_train_20200313.csv', sep=' ')\n",
    "Test_data = pd.read_csv(path+'used_car_testB_20200421.csv', sep=' ')\n",
    "print(Train_data.shape)\n",
    "print(Test_data.shape)"
   ]
  },
  {
   "cell_type": "code",
   "execution_count": 12,
   "metadata": {
    "ExecuteTime": {
     "end_time": "2020-08-26T17:53:54.462552Z",
     "start_time": "2020-08-26T17:53:54.459083Z"
    }
   },
   "outputs": [
    {
     "name": "stdout",
     "output_type": "stream",
     "text": [
      "Index(['SaleID', 'name', 'regDate', 'model', 'brand', 'bodyType', 'fuelType',\n",
      "       'gearbox', 'power', 'kilometer', 'notRepairedDamage', 'regionCode',\n",
      "       'seller', 'offerType', 'creatDate', 'price', 'v_0', 'v_1', 'v_2', 'v_3',\n",
      "       'v_4', 'v_5', 'v_6', 'v_7', 'v_8', 'v_9', 'v_10', 'v_11', 'v_12',\n",
      "       'v_13', 'v_14'],\n",
      "      dtype='object')\n"
     ]
    }
   ],
   "source": [
    "print(Train_data.columns)\n",
    "# print(Train_data.info())"
   ]
  },
  {
   "cell_type": "code",
   "execution_count": 13,
   "metadata": {
    "ExecuteTime": {
     "end_time": "2020-08-26T17:53:55.254965Z",
     "start_time": "2020-08-26T17:53:55.249979Z"
    }
   },
   "outputs": [],
   "source": [
    "numerical_features = ['power', 'kilometer', 'v_0', 'v_1', 'v_2', 'v_3', 'v_4', 'v_5', 'v_6', 'v_7', 'v_8', 'v_9', 'v_10', 'v_11', 'v_12', 'v_13','v_14' ]\n",
    "\n",
    "categorical_features = ['name', 'model', 'brand', 'bodyType', 'fuelType', 'gearbox', 'notRepairedDamage', 'regionCode']"
   ]
  },
  {
   "cell_type": "code",
   "execution_count": 14,
   "metadata": {
    "ExecuteTime": {
     "end_time": "2020-08-26T17:53:56.262597Z",
     "start_time": "2020-08-26T17:53:55.555431Z"
    }
   },
   "outputs": [
    {
     "name": "stdout",
     "output_type": "stream",
     "text": [
      "Handling power\n",
      "# of delete rows: 963\n",
      "# of current rows: 150000\n",
      "Handling kilometer\n",
      "# of delete rows: 963\n",
      "# of current rows: 150000\n",
      "Handling v_0\n",
      "# of delete rows: 963\n",
      "# of current rows: 150000\n",
      "Handling v_1\n",
      "# of delete rows: 963\n",
      "# of current rows: 150000\n",
      "Handling v_2\n",
      "# of delete rows: 963\n",
      "# of current rows: 150000\n",
      "Handling v_3\n",
      "# of delete rows: 963\n",
      "# of current rows: 150000\n",
      "Handling v_4\n",
      "# of delete rows: 963\n",
      "# of current rows: 150000\n",
      "Handling v_5\n",
      "# of delete rows: 963\n",
      "# of current rows: 150000\n",
      "Handling v_6\n",
      "# of delete rows: 963\n",
      "# of current rows: 150000\n",
      "Handling v_7\n",
      "# of delete rows: 963\n",
      "# of current rows: 150000\n",
      "Handling v_8\n",
      "# of delete rows: 963\n",
      "# of current rows: 150000\n",
      "Handling v_9\n",
      "# of delete rows: 963\n",
      "# of current rows: 150000\n",
      "Handling v_10\n",
      "# of delete rows: 963\n",
      "# of current rows: 150000\n",
      "Handling v_11\n",
      "# of delete rows: 963\n",
      "# of current rows: 150000\n",
      "Handling v_12\n",
      "# of delete rows: 963\n",
      "# of current rows: 150000\n",
      "Handling v_13\n",
      "# of delete rows: 963\n",
      "# of current rows: 150000\n",
      "Handling v_14\n",
      "# of delete rows: 963\n",
      "# of current rows: 150000\n"
     ]
    }
   ],
   "source": [
    "# 处理异常值\n",
    "# 使用Tukeys tets方法\n",
    "def handle_outliers(df, col_name, scale=3):\n",
    "    def tukeys_test(df, col_name, scale):\n",
    "        iqr = scale*(df[col_name].quantile(0.75) - df[col_name].quantile(0.25))\n",
    "        min_val = df[col_name].quantile(0.25) - iqr\n",
    "        max_val = df[col_name].quantile(0.75) + iqr\n",
    "          \n",
    "        return min_val, max_val\n",
    "    \n",
    "    \n",
    "    \n",
    "    min_val, max_val = tukeys_test(df, col_name, scale)\n",
    "\n",
    "    del_idx = df[(df[col_name] > max_val) | (df[col_name]<min_val) ].index\n",
    "    \n",
    "    \n",
    "    print(\"# of delete rows: {}\".format(len(del_idx)))\n",
    "    \n",
    "    \n",
    "    Train_data_n = df.drop(del_idx)\n",
    "    print('# of current rows: {}'.format(len(df)))\n",
    "    \n",
    "    return Train_data_n\n",
    "\n",
    "    \n",
    "\n",
    "\n",
    "\n",
    "for fea in numerical_features:\n",
    "    print('Handling {}'.format(fea))\n",
    "    Train_data_n= handle_outliers(Train_data, 'power')"
   ]
  },
  {
   "cell_type": "code",
   "execution_count": 15,
   "metadata": {
    "ExecuteTime": {
     "end_time": "2020-08-26T17:53:57.174284Z",
     "start_time": "2020-08-26T17:53:57.171575Z"
    }
   },
   "outputs": [],
   "source": [
    "# print(len(Train_data))\n",
    "# print(len(Train_data_n))"
   ]
  },
  {
   "cell_type": "code",
   "execution_count": 16,
   "metadata": {
    "ExecuteTime": {
     "end_time": "2020-08-26T17:53:57.701118Z",
     "start_time": "2020-08-26T17:53:57.698520Z"
    }
   },
   "outputs": [],
   "source": [
    "# 特征构造"
   ]
  },
  {
   "cell_type": "code",
   "execution_count": 17,
   "metadata": {
    "ExecuteTime": {
     "end_time": "2020-08-26T17:54:03.865145Z",
     "start_time": "2020-08-26T17:54:03.787354Z"
    }
   },
   "outputs": [],
   "source": [
    "Train_data_n['train']=1\n",
    "Test_data['train']=0\n",
    "merged_data = pd.concat([Train_data_n, Test_data], ignore_index=True)"
   ]
  },
  {
   "cell_type": "code",
   "execution_count": 18,
   "metadata": {
    "ExecuteTime": {
     "end_time": "2020-08-26T17:54:04.469954Z",
     "start_time": "2020-08-26T17:54:04.466226Z"
    }
   },
   "outputs": [
    {
     "name": "stdout",
     "output_type": "stream",
     "text": [
      "(199037, 32)\n"
     ]
    }
   ],
   "source": [
    "print(merged_data.shape)"
   ]
  },
  {
   "cell_type": "code",
   "execution_count": 19,
   "metadata": {
    "ExecuteTime": {
     "end_time": "2020-08-26T17:54:06.293672Z",
     "start_time": "2020-08-26T17:54:06.289530Z"
    }
   },
   "outputs": [
    {
     "name": "stdout",
     "output_type": "stream",
     "text": [
      "0    20040402\n",
      "1    20030301\n",
      "2    20040403\n",
      "3    19960908\n",
      "4    20120103\n",
      "Name: regDate, dtype: int64\n",
      "0    20160404\n",
      "1    20160309\n",
      "2    20160402\n",
      "3    20160312\n",
      "4    20160313\n",
      "Name: creatDate, dtype: int64\n"
     ]
    }
   ],
   "source": [
    "# 创建新特征，出售时间-购买时间\n",
    "print(merged_data['regDate'].head())\n",
    "print(merged_data['creatDate'].head())\n"
   ]
  },
  {
   "cell_type": "code",
   "execution_count": 20,
   "metadata": {
    "ExecuteTime": {
     "end_time": "2020-08-26T17:54:07.496240Z",
     "start_time": "2020-08-26T17:54:06.979095Z"
    }
   },
   "outputs": [],
   "source": [
    "merged_data['used_days'] = (pd.to_datetime(merged_data['creatDate'], format='%Y%m%d', errors='coerce')\n",
    "- pd.to_datetime(merged_data['regDate'], format='%Y%m%d', errors='coerce')).dt.days"
   ]
  },
  {
   "cell_type": "code",
   "execution_count": 21,
   "metadata": {
    "ExecuteTime": {
     "end_time": "2020-08-26T17:54:07.619902Z",
     "start_time": "2020-08-26T17:54:07.505209Z"
    }
   },
   "outputs": [],
   "source": [
    "merged_data['used_year'] = round(merged_data['used_days'] / 365, 1)#二手车使用年数"
   ]
  },
  {
   "cell_type": "code",
   "execution_count": 22,
   "metadata": {
    "ExecuteTime": {
     "end_time": "2020-08-26T17:54:08.024966Z",
     "start_time": "2020-08-26T17:54:08.010343Z"
    }
   },
   "outputs": [
    {
     "name": "stdout",
     "output_type": "stream",
     "text": [
      "15054 missing values in 'used_days' feature\n"
     ]
    }
   ],
   "source": [
    "print('{} missing values in \\'used_days\\' feature'.format(merged_data['used_days'].isnull().sum()))"
   ]
  },
  {
   "cell_type": "code",
   "execution_count": 23,
   "metadata": {
    "ExecuteTime": {
     "end_time": "2020-08-26T17:54:08.223880Z",
     "start_time": "2020-08-26T17:54:08.217865Z"
    }
   },
   "outputs": [
    {
     "data": {
      "text/plain": [
       "0    1046\n",
       "1    4366\n",
       "2    2806\n",
       "3     434\n",
       "4    6977\n",
       "Name: regionCode, dtype: int64"
      ]
     },
     "execution_count": 23,
     "metadata": {},
     "output_type": "execute_result"
    }
   ],
   "source": [
    "# 邮编提取关键字\n",
    "merged_data['regionCode'].head()"
   ]
  },
  {
   "cell_type": "code",
   "execution_count": 24,
   "metadata": {
    "ExecuteTime": {
     "end_time": "2020-08-26T17:54:08.461606Z",
     "start_time": "2020-08-26T17:54:08.393714Z"
    }
   },
   "outputs": [],
   "source": [
    "# 尝试从邮编中提取城市信息\n",
    "merged_data['city'] = merged_data['regionCode'].apply(lambda x : str(x)[:-3])\n",
    "merged_data = merged_data"
   ]
  },
  {
   "cell_type": "code",
   "execution_count": 25,
   "metadata": {
    "ExecuteTime": {
     "end_time": "2020-08-26T17:54:08.597657Z",
     "start_time": "2020-08-26T17:54:08.593658Z"
    }
   },
   "outputs": [
    {
     "data": {
      "text/plain": [
       "Index(['SaleID', 'name', 'regDate', 'model', 'brand', 'bodyType', 'fuelType',\n",
       "       'gearbox', 'power', 'kilometer', 'notRepairedDamage', 'regionCode',\n",
       "       'seller', 'offerType', 'creatDate', 'price', 'v_0', 'v_1', 'v_2', 'v_3',\n",
       "       'v_4', 'v_5', 'v_6', 'v_7', 'v_8', 'v_9', 'v_10', 'v_11', 'v_12',\n",
       "       'v_13', 'v_14', 'train', 'used_days', 'used_year', 'city'],\n",
       "      dtype='object')"
      ]
     },
     "execution_count": 25,
     "metadata": {},
     "output_type": "execute_result"
    }
   ],
   "source": [
    "merged_data.columns"
   ]
  },
  {
   "cell_type": "code",
   "execution_count": 26,
   "metadata": {
    "ExecuteTime": {
     "end_time": "2020-08-26T17:54:08.799843Z",
     "start_time": "2020-08-26T17:54:08.794858Z"
    }
   },
   "outputs": [],
   "source": [
    "def feat_price_cal(feat_list,dataset):\n",
    "    \n",
    "    for feat_name in feat_list:\n",
    "        df_grouby = dataset.groupby(feat_name)\n",
    "        all_info={}\n",
    "        for feat_value, item in df_grouby:\n",
    "            info = {}\n",
    "            curr_data = item[item['price']>0]\n",
    "            info[feat_name+'_amount'] = len(curr_data)\n",
    "            info[feat_name+'_price_avg'] = curr_data['price'].mean()\n",
    "            info[feat_name+'_price_median'] = curr_data['price'].median()\n",
    "            info[feat_name+'_price_min'] = curr_data['price'].min()\n",
    "            info[feat_name+'_price_max'] = curr_data['price'].max()\n",
    "            info[feat_name+'_price_sum'] = curr_data['price'].sum()\n",
    "            info[feat_name+'_price_std'] = curr_data['price'].std()\n",
    "#             print(info)\n",
    "            all_info[feat_value] = info\n",
    "        feat_info_df = pd.DataFrame(all_info).T.reset_index().rename(columns={\"index\": feat_name})\n",
    "#         print(feat_info_df.T.head())\n",
    "        dataset = dataset.merge(feat_info_df, how='left', on=feat_name)\n",
    "    return dataset"
   ]
  },
  {
   "cell_type": "code",
   "execution_count": 27,
   "metadata": {
    "ExecuteTime": {
     "end_time": "2020-08-26T17:54:12.166565Z",
     "start_time": "2020-08-26T17:54:09.330802Z"
    }
   },
   "outputs": [
    {
     "name": "stdout",
     "output_type": "stream",
     "text": [
      "Index(['SaleID', 'name', 'regDate', 'model', 'brand', 'bodyType', 'fuelType',\n",
      "       'gearbox', 'power', 'kilometer', 'notRepairedDamage', 'regionCode',\n",
      "       'seller', 'offerType', 'creatDate', 'price', 'v_0', 'v_1', 'v_2', 'v_3',\n",
      "       'v_4', 'v_5', 'v_6', 'v_7', 'v_8', 'v_9', 'v_10', 'v_11', 'v_12',\n",
      "       'v_13', 'v_14', 'train', 'used_days', 'used_year', 'city',\n",
      "       'brand_amount', 'brand_price_avg', 'brand_price_median',\n",
      "       'brand_price_min', 'brand_price_max', 'brand_price_sum',\n",
      "       'brand_price_std', 'model_amount', 'model_price_avg',\n",
      "       'model_price_median', 'model_price_min', 'model_price_max',\n",
      "       'model_price_sum', 'model_price_std', 'kilometer_amount',\n",
      "       'kilometer_price_avg', 'kilometer_price_median', 'kilometer_price_min',\n",
      "       'kilometer_price_max', 'kilometer_price_sum', 'kilometer_price_std',\n",
      "       'fuelType_amount', 'fuelType_price_avg', 'fuelType_price_median',\n",
      "       'fuelType_price_min', 'fuelType_price_max', 'fuelType_price_sum',\n",
      "       'fuelType_price_std', 'bodyType_amount', 'bodyType_price_avg',\n",
      "       'bodyType_price_median', 'bodyType_price_min', 'bodyType_price_max',\n",
      "       'bodyType_price_sum', 'bodyType_price_std'],\n",
      "      dtype='object')\n"
     ]
    }
   ],
   "source": [
    "gb_feats = ['brand','model','kilometer','fuelType','bodyType']\n",
    "dataset = feat_price_cal(gb_feats, merged_data)\n",
    "print(dataset.columns)"
   ]
  },
  {
   "cell_type": "code",
   "execution_count": 28,
   "metadata": {
    "ExecuteTime": {
     "end_time": "2020-08-26T17:54:12.176573Z",
     "start_time": "2020-08-26T17:54:12.167562Z"
    }
   },
   "outputs": [],
   "source": [
    "merged_data = dataset"
   ]
  },
  {
   "cell_type": "code",
   "execution_count": 29,
   "metadata": {
    "ExecuteTime": {
     "end_time": "2020-08-26T17:54:12.194089Z",
     "start_time": "2020-08-26T17:54:12.178535Z"
    }
   },
   "outputs": [
    {
     "data": {
      "text/plain": [
       "Index(['SaleID', 'name', 'regDate', 'model', 'brand', 'bodyType', 'fuelType',\n",
       "       'gearbox', 'power', 'kilometer', 'notRepairedDamage', 'regionCode',\n",
       "       'seller', 'offerType', 'creatDate', 'price', 'v_0', 'v_1', 'v_2', 'v_3',\n",
       "       'v_4', 'v_5', 'v_6', 'v_7', 'v_8', 'v_9', 'v_10', 'v_11', 'v_12',\n",
       "       'v_13', 'v_14', 'train', 'used_days', 'used_year', 'city',\n",
       "       'brand_amount', 'brand_price_avg', 'brand_price_median',\n",
       "       'brand_price_min', 'brand_price_max', 'brand_price_sum',\n",
       "       'brand_price_std', 'model_amount', 'model_price_avg',\n",
       "       'model_price_median', 'model_price_min', 'model_price_max',\n",
       "       'model_price_sum', 'model_price_std', 'kilometer_amount',\n",
       "       'kilometer_price_avg', 'kilometer_price_median', 'kilometer_price_min',\n",
       "       'kilometer_price_max', 'kilometer_price_sum', 'kilometer_price_std',\n",
       "       'fuelType_amount', 'fuelType_price_avg', 'fuelType_price_median',\n",
       "       'fuelType_price_min', 'fuelType_price_max', 'fuelType_price_sum',\n",
       "       'fuelType_price_std', 'bodyType_amount', 'bodyType_price_avg',\n",
       "       'bodyType_price_median', 'bodyType_price_min', 'bodyType_price_max',\n",
       "       'bodyType_price_sum', 'bodyType_price_std'],\n",
       "      dtype='object')"
      ]
     },
     "execution_count": 29,
     "metadata": {},
     "output_type": "execute_result"
    }
   ],
   "source": [
    "merged_data.columns"
   ]
  },
  {
   "cell_type": "code",
   "execution_count": 30,
   "metadata": {
    "ExecuteTime": {
     "end_time": "2020-08-26T17:54:12.339710Z",
     "start_time": "2020-08-26T17:54:12.196083Z"
    }
   },
   "outputs": [],
   "source": [
    "# 行程与功率关联统计\n",
    "kk = ['kilometer','power']\n",
    "t1 = Train_data_n.groupby(kk[0],as_index=False)[kk[1]].agg(\n",
    "        {kk[0]+'_'+kk[1]+'_count':'count',kk[0]+'_'+kk[1]+'_max':'max',kk[0]+'_'+kk[1]+'_median':'median',\n",
    "         kk[0]+'_'+kk[1]+'_min':'min',kk[0]+'_'+kk[1]+'_sum':'sum',kk[0]+'_'+kk[1]+'_std':'std',kk[0]+'_'+kk[1]+'_mean':'mean'})\n",
    "merged_data = pd.merge(merged_data,t1,on=kk[0],how='left')"
   ]
  },
  {
   "cell_type": "code",
   "execution_count": 31,
   "metadata": {
    "ExecuteTime": {
     "end_time": "2020-08-26T17:54:12.345695Z",
     "start_time": "2020-08-26T17:54:12.340696Z"
    }
   },
   "outputs": [
    {
     "data": {
      "text/plain": [
       "Index(['SaleID', 'name', 'regDate', 'model', 'brand', 'bodyType', 'fuelType',\n",
       "       'gearbox', 'power', 'kilometer', 'notRepairedDamage', 'regionCode',\n",
       "       'seller', 'offerType', 'creatDate', 'price', 'v_0', 'v_1', 'v_2', 'v_3',\n",
       "       'v_4', 'v_5', 'v_6', 'v_7', 'v_8', 'v_9', 'v_10', 'v_11', 'v_12',\n",
       "       'v_13', 'v_14', 'train', 'used_days', 'used_year', 'city',\n",
       "       'brand_amount', 'brand_price_avg', 'brand_price_median',\n",
       "       'brand_price_min', 'brand_price_max', 'brand_price_sum',\n",
       "       'brand_price_std', 'model_amount', 'model_price_avg',\n",
       "       'model_price_median', 'model_price_min', 'model_price_max',\n",
       "       'model_price_sum', 'model_price_std', 'kilometer_amount',\n",
       "       'kilometer_price_avg', 'kilometer_price_median', 'kilometer_price_min',\n",
       "       'kilometer_price_max', 'kilometer_price_sum', 'kilometer_price_std',\n",
       "       'fuelType_amount', 'fuelType_price_avg', 'fuelType_price_median',\n",
       "       'fuelType_price_min', 'fuelType_price_max', 'fuelType_price_sum',\n",
       "       'fuelType_price_std', 'bodyType_amount', 'bodyType_price_avg',\n",
       "       'bodyType_price_median', 'bodyType_price_min', 'bodyType_price_max',\n",
       "       'bodyType_price_sum', 'bodyType_price_std', 'kilometer_power_count',\n",
       "       'kilometer_power_max', 'kilometer_power_median', 'kilometer_power_min',\n",
       "       'kilometer_power_sum', 'kilometer_power_std', 'kilometer_power_mean'],\n",
       "      dtype='object')"
      ]
     },
     "execution_count": 31,
     "metadata": {},
     "output_type": "execute_result"
    }
   ],
   "source": [
    "merged_data.columns"
   ]
  },
  {
   "cell_type": "code",
   "execution_count": 32,
   "metadata": {
    "ExecuteTime": {
     "end_time": "2020-08-26T17:54:13.613668Z",
     "start_time": "2020-08-26T17:54:13.609692Z"
    }
   },
   "outputs": [],
   "source": [
    "# # 对属性作统计\n",
    "# # 只使用训练集的做统计，以防止数据泄露\n",
    "\n",
    "# Train_data_n_gb = Train_data_n.groupby('brand')\n",
    "# all_info={}\n",
    "# for brand_name, name_data in Train_data_n_gb:\n",
    "#     info={}\n",
    "#     curr_data = name_data[name_data['price']>0]\n",
    "#     info['brand_amount'] = len(curr_data)\n",
    "#     info['brand_price_avg'] = curr_data['price'].mean()\n",
    "#     info['brand_price_median'] = curr_data['price'].median()\n",
    "#     info['brand_price_min'] = curr_data['price'].min()\n",
    "#     info['brand_price_max'] = curr_data['price'].max()\n",
    "#     info['brand_price_sum'] = curr_data['price'].sum()\n",
    "#     info['brand_price_std'] = curr_data['price'].std()\n",
    "#     all_info[brand_name] = info\n",
    "#     print(pd.DataFrame(all_info).T.head())\n",
    "# brand_info_df = pd.DataFrame(all_info).T.reset_index().rename(columns={\"index\": \"brand\"})\n",
    "# merged_data = merged_data.merge(brand_info_df, how='left', on='brand')\n"
   ]
  },
  {
   "cell_type": "code",
   "execution_count": 33,
   "metadata": {
    "ExecuteTime": {
     "end_time": "2020-08-26T17:54:14.613577Z",
     "start_time": "2020-08-26T17:54:14.610587Z"
    }
   },
   "outputs": [],
   "source": [
    "# # 对model属性作统计\n",
    "# Train_data_n_gb = Train_data_n.groupby('model')\n",
    "# all_info={}\n",
    "# for brand_name, name_data in Train_data_n_gb:\n",
    "#     info={}\n",
    "#     curr_data = name_data[name_data['price']>0]\n",
    "#     info['model_amount'] = len(curr_data)\n",
    "#     info['model_price_avg'] = curr_data['price'].mean()\n",
    "#     info['model_price_median'] = curr_data['price'].median()\n",
    "#     info['model_price_min'] = curr_data['price'].min()\n",
    "#     info['model_price_max'] = curr_data['price'].max()\n",
    "#     info['model_price_sum'] = curr_data['price'].sum()\n",
    "#     info['model_price_std'] = curr_data['price'].std()\n",
    "#     all_info[brand_name] = info\n",
    "# brand_info_df = pd.DataFrame(all_info).T.reset_index().rename(columns={\"index\": \"model\"})\n",
    "# merged_data = merged_data.merge(brand_info_df, how='left', on='model')\n"
   ]
  },
  {
   "cell_type": "code",
   "execution_count": 34,
   "metadata": {
    "ExecuteTime": {
     "end_time": "2020-08-26T17:54:14.973034Z",
     "start_time": "2020-08-26T17:54:14.970346Z"
    }
   },
   "outputs": [],
   "source": [
    "# # gear_box做统计\n",
    "# cat_cols = ['kilometer','fuelType','bodyType','gearbox']\n",
    "# for col in cat_cols:\n",
    "#     t = Train_data_n.groupby(col,as_index=False)['price'].agg(\n",
    "#         {col+'_count':'count',col+'_price_max':'max',col+'_price_median':'median',\n",
    "#          col+'_price_min':'min',col+'_price_sum':'sum',col+'_price_std':'std',col+'_price_mean':'mean'})\n",
    "#     merged_data = pd.merge(merged_data,t,on=col,how='left')"
   ]
  },
  {
   "cell_type": "code",
   "execution_count": 35,
   "metadata": {
    "ExecuteTime": {
     "end_time": "2020-08-26T17:54:15.404637Z",
     "start_time": "2020-08-26T17:54:15.401676Z"
    }
   },
   "outputs": [],
   "source": [
    "# len(merged_data.columns)"
   ]
  },
  {
   "cell_type": "code",
   "execution_count": 36,
   "metadata": {
    "ExecuteTime": {
     "end_time": "2020-08-26T17:54:16.741355Z",
     "start_time": "2020-08-26T17:54:16.713431Z"
    }
   },
   "outputs": [],
   "source": [
    "# 对power进行分桶,对训练集和测试集都实现\n",
    "bin = [i*10 for i in range(31)]\n",
    "merged_data['power_bin'] = pd.cut(Train_data_n['power'], bin, labels=False)\n",
    "\n",
    "# 尝试对model进行分桶\n",
    "bin = [i*10 for i in range(24)]\n",
    "merged_data['model_bin'] = pd.cut(Train_data_n['model'], bin, labels=False)"
   ]
  },
  {
   "cell_type": "code",
   "execution_count": 37,
   "metadata": {
    "ExecuteTime": {
     "end_time": "2020-08-26T17:54:19.952811Z",
     "start_time": "2020-08-26T17:54:19.947842Z"
    }
   },
   "outputs": [
    {
     "data": {
      "text/plain": [
       "Index(['SaleID', 'name', 'regDate', 'model', 'brand', 'bodyType', 'fuelType',\n",
       "       'gearbox', 'power', 'kilometer', 'notRepairedDamage', 'regionCode',\n",
       "       'seller', 'offerType', 'creatDate', 'price', 'v_0', 'v_1', 'v_2', 'v_3',\n",
       "       'v_4', 'v_5', 'v_6', 'v_7', 'v_8', 'v_9', 'v_10', 'v_11', 'v_12',\n",
       "       'v_13', 'v_14', 'train', 'used_days', 'used_year', 'city',\n",
       "       'brand_amount', 'brand_price_avg', 'brand_price_median',\n",
       "       'brand_price_min', 'brand_price_max', 'brand_price_sum',\n",
       "       'brand_price_std', 'model_amount', 'model_price_avg',\n",
       "       'model_price_median', 'model_price_min', 'model_price_max',\n",
       "       'model_price_sum', 'model_price_std', 'kilometer_amount',\n",
       "       'kilometer_price_avg', 'kilometer_price_median', 'kilometer_price_min',\n",
       "       'kilometer_price_max', 'kilometer_price_sum', 'kilometer_price_std',\n",
       "       'fuelType_amount', 'fuelType_price_avg', 'fuelType_price_median',\n",
       "       'fuelType_price_min', 'fuelType_price_max', 'fuelType_price_sum',\n",
       "       'fuelType_price_std', 'bodyType_amount', 'bodyType_price_avg',\n",
       "       'bodyType_price_median', 'bodyType_price_min', 'bodyType_price_max',\n",
       "       'bodyType_price_sum', 'bodyType_price_std', 'kilometer_power_count',\n",
       "       'kilometer_power_max', 'kilometer_power_median', 'kilometer_power_min',\n",
       "       'kilometer_power_sum', 'kilometer_power_std', 'kilometer_power_mean',\n",
       "       'power_bin', 'model_bin'],\n",
       "      dtype='object')"
      ]
     },
     "execution_count": 37,
     "metadata": {},
     "output_type": "execute_result"
    }
   ],
   "source": [
    "merged_data.columns"
   ]
  },
  {
   "cell_type": "code",
   "execution_count": 38,
   "metadata": {
    "ExecuteTime": {
     "end_time": "2020-08-26T17:54:22.193652Z",
     "start_time": "2020-08-26T17:54:22.186740Z"
    }
   },
   "outputs": [],
   "source": [
    "# 处理repairedDamage的‘-’值\n",
    "def replaceNotRepairedDamage(df):\n",
    "    df['notRepairedDamage'].replace('-', np.nan, inplace=True)\n",
    "replaceNotRepairedDamage(merged_data)"
   ]
  },
  {
   "cell_type": "code",
   "execution_count": 39,
   "metadata": {
    "ExecuteTime": {
     "end_time": "2020-08-26T17:54:22.700998Z",
     "start_time": "2020-08-26T17:54:22.540391Z"
    }
   },
   "outputs": [],
   "source": [
    "merged_data['notRepairedDamage'] = merged_data[['notRepairedDamage']].astype('float64')"
   ]
  },
  {
   "cell_type": "code",
   "execution_count": 40,
   "metadata": {
    "ExecuteTime": {
     "end_time": "2020-08-26T17:54:23.733610Z",
     "start_time": "2020-08-26T17:54:23.657547Z"
    }
   },
   "outputs": [],
   "source": [
    "merged_data['city'] = pd.to_numeric(merged_data['city'], errors = 'coerce')"
   ]
  },
  {
   "cell_type": "code",
   "execution_count": 41,
   "metadata": {
    "ExecuteTime": {
     "end_time": "2020-08-26T17:54:24.564968Z",
     "start_time": "2020-08-26T17:54:24.530047Z"
    }
   },
   "outputs": [],
   "source": [
    "# 统计各种name的数量\n",
    "merged_data['name_count'] = merged_data.groupby(['name'])['SaleID'].transform('count')\n",
    "\n"
   ]
  },
  {
   "cell_type": "code",
   "execution_count": 42,
   "metadata": {
    "ExecuteTime": {
     "end_time": "2020-08-26T17:54:35.282643Z",
     "start_time": "2020-08-26T17:54:34.954513Z"
    }
   },
   "outputs": [],
   "source": [
    "# 类别型变量独热编码\n",
    "cate_oht_features = ['bodyType', 'fuelType','gearbox', 'notRepairedDamage', 'power_bin','city']  \n",
    "merged_data = pd.get_dummies(merged_data, columns=cate_oht_features)\n",
    "merged_data['model'] = merged_data['model'].fillna(0)"
   ]
  },
  {
   "cell_type": "code",
   "execution_count": 43,
   "metadata": {
    "ExecuteTime": {
     "end_time": "2020-08-26T17:54:37.208271Z",
     "start_time": "2020-08-26T17:54:37.202089Z"
    }
   },
   "outputs": [],
   "source": [
    "# 对price做Log处理\n",
    "merged_data['price'] = np.log1p(merged_data['price'])"
   ]
  },
  {
   "cell_type": "code",
   "execution_count": 44,
   "metadata": {
    "ExecuteTime": {
     "end_time": "2020-08-26T17:54:39.460831Z",
     "start_time": "2020-08-26T17:54:39.450860Z"
    }
   },
   "outputs": [
    {
     "name": "stdout",
     "output_type": "stream",
     "text": [
      "<class 'pandas.core.frame.DataFrame'>\n",
      "Int64Index: 199037 entries, 0 to 199036\n",
      "Columns: 131 entries, SaleID to city_8.0\n",
      "dtypes: float64(58), int64(16), uint8(57)\n",
      "memory usage: 124.7 MB\n"
     ]
    }
   ],
   "source": [
    "merged_data.info()"
   ]
  },
  {
   "cell_type": "code",
   "execution_count": null,
   "metadata": {},
   "outputs": [],
   "source": []
  },
  {
   "cell_type": "code",
   "execution_count": null,
   "metadata": {},
   "outputs": [],
   "source": []
  },
  {
   "cell_type": "code",
   "execution_count": null,
   "metadata": {},
   "outputs": [],
   "source": []
  },
  {
   "cell_type": "code",
   "execution_count": 45,
   "metadata": {
    "ExecuteTime": {
     "end_time": "2020-08-26T17:54:41.938577Z",
     "start_time": "2020-08-26T17:54:41.801917Z"
    }
   },
   "outputs": [
    {
     "data": {
      "text/html": [
       "<div>\n",
       "<style scoped>\n",
       "    .dataframe tbody tr th:only-of-type {\n",
       "        vertical-align: middle;\n",
       "    }\n",
       "\n",
       "    .dataframe tbody tr th {\n",
       "        vertical-align: top;\n",
       "    }\n",
       "\n",
       "    .dataframe thead th {\n",
       "        text-align: right;\n",
       "    }\n",
       "</style>\n",
       "<table border=\"1\" class=\"dataframe\">\n",
       "  <thead>\n",
       "    <tr style=\"text-align: right;\">\n",
       "      <th></th>\n",
       "      <th>v_0</th>\n",
       "      <th>v_3</th>\n",
       "      <th>v_8</th>\n",
       "      <th>v_12</th>\n",
       "    </tr>\n",
       "  </thead>\n",
       "  <tbody>\n",
       "    <tr>\n",
       "      <th>0</th>\n",
       "      <td>43.357796</td>\n",
       "      <td>2.159744</td>\n",
       "      <td>0.022816</td>\n",
       "      <td>-2.420821</td>\n",
       "    </tr>\n",
       "    <tr>\n",
       "      <th>1</th>\n",
       "      <td>45.305273</td>\n",
       "      <td>1.380657</td>\n",
       "      <td>0.026597</td>\n",
       "      <td>-1.030483</td>\n",
       "    </tr>\n",
       "    <tr>\n",
       "      <th>2</th>\n",
       "      <td>45.978359</td>\n",
       "      <td>-0.998467</td>\n",
       "      <td>0.062173</td>\n",
       "      <td>1.565330</td>\n",
       "    </tr>\n",
       "    <tr>\n",
       "      <th>3</th>\n",
       "      <td>45.687478</td>\n",
       "      <td>0.883600</td>\n",
       "      <td>0.033395</td>\n",
       "      <td>-0.501868</td>\n",
       "    </tr>\n",
       "    <tr>\n",
       "      <th>4</th>\n",
       "      <td>44.383511</td>\n",
       "      <td>-1.571239</td>\n",
       "      <td>0.078819</td>\n",
       "      <td>0.931110</td>\n",
       "    </tr>\n",
       "  </tbody>\n",
       "</table>\n",
       "</div>"
      ],
      "text/plain": [
       "         v_0       v_3       v_8      v_12\n",
       "0  43.357796  2.159744  0.022816 -2.420821\n",
       "1  45.305273  1.380657  0.026597 -1.030483\n",
       "2  45.978359 -0.998467  0.062173  1.565330\n",
       "3  45.687478  0.883600  0.033395 -0.501868\n",
       "4  44.383511 -1.571239  0.078819  0.931110"
      ]
     },
     "execution_count": 45,
     "metadata": {},
     "output_type": "execute_result"
    }
   ],
   "source": [
    "anon_feat = ['v_0', 'v_3', 'v_8', 'v_12']\n",
    "anon_df = merged_data[anon_feat]\n",
    "anon_df.head()"
   ]
  },
  {
   "cell_type": "code",
   "execution_count": 46,
   "metadata": {
    "ExecuteTime": {
     "end_time": "2020-08-26T17:54:43.548902Z",
     "start_time": "2020-08-26T17:54:43.450546Z"
    }
   },
   "outputs": [],
   "source": [
    "# 线性组合\n",
    "num_cols = [0,3,8,12]\n",
    "for i in num_cols:\n",
    "    for j in num_cols:\n",
    "        merged_data['new'+str(i)+'+'+str(j)]=merged_data['v_'+str(i)]+merged_data['v_'+str(j)]\n",
    "\n",
    "\n",
    "for i in num_cols:\n",
    "    for j in num_cols:\n",
    "        merged_data['new'+str(i)+'-'+str(j)]=merged_data['v_'+str(i)]-merged_data['v_'+str(j)]\n",
    "\n",
    "\n",
    "for i in range(15):\n",
    "    merged_data['new'+str(i)+'*year']=merged_data['v_'+str(i)] * merged_data['used_year']"
   ]
  },
  {
   "cell_type": "code",
   "execution_count": 47,
   "metadata": {
    "ExecuteTime": {
     "end_time": "2020-08-26T17:54:44.349041Z",
     "start_time": "2020-08-26T17:54:44.346081Z"
    }
   },
   "outputs": [],
   "source": [
    "# 非线性组合"
   ]
  },
  {
   "cell_type": "code",
   "execution_count": 48,
   "metadata": {
    "ExecuteTime": {
     "end_time": "2020-08-26T17:54:44.710972Z",
     "start_time": "2020-08-26T17:54:44.618813Z"
    }
   },
   "outputs": [],
   "source": [
    "from sklearn.preprocessing import PolynomialFeatures\n",
    "poly_scaler = PolynomialFeatures(4, interaction_only=True)\n",
    "mul_feat = poly_scaler.fit_transform(anon_df)"
   ]
  },
  {
   "cell_type": "code",
   "execution_count": 49,
   "metadata": {
    "ExecuteTime": {
     "end_time": "2020-08-26T17:54:45.237251Z",
     "start_time": "2020-08-26T17:54:45.233892Z"
    }
   },
   "outputs": [
    {
     "name": "stdout",
     "output_type": "stream",
     "text": [
      "['1', 'v_0', 'v_3', 'v_8', 'v_12', 'v_0 v_3', 'v_0 v_8', 'v_0 v_12', 'v_3 v_8', 'v_3 v_12', 'v_8 v_12', 'v_0 v_3 v_8', 'v_0 v_3 v_12', 'v_0 v_8 v_12', 'v_3 v_8 v_12', 'v_0 v_3 v_8 v_12']\n"
     ]
    }
   ],
   "source": [
    "feat_name = poly_scaler.get_feature_names(anon_feat)\n",
    "print(feat_name)"
   ]
  },
  {
   "cell_type": "code",
   "execution_count": 50,
   "metadata": {
    "ExecuteTime": {
     "end_time": "2020-08-26T17:54:45.823774Z",
     "start_time": "2020-08-26T17:54:45.818790Z"
    }
   },
   "outputs": [
    {
     "name": "stdout",
     "output_type": "stream",
     "text": [
      "[ 4.33577963e+01  2.15974409e+00  2.28163674e-02 -2.42082079e+00]\n"
     ]
    }
   ],
   "source": [
    "print(mul_feat[0][1:5])"
   ]
  },
  {
   "cell_type": "code",
   "execution_count": 51,
   "metadata": {
    "ExecuteTime": {
     "end_time": "2020-08-26T17:55:01.220925Z",
     "start_time": "2020-08-26T17:55:01.195380Z"
    }
   },
   "outputs": [
    {
     "name": "stdout",
     "output_type": "stream",
     "text": [
      "v_0 v_3\n",
      "v_0 v_8\n",
      "v_0 v_12\n",
      "v_3 v_8\n",
      "v_3 v_12\n",
      "v_8 v_12\n",
      "v_0 v_3 v_8\n",
      "v_0 v_3 v_12\n",
      "v_0 v_8 v_12\n",
      "v_3 v_8 v_12\n",
      "v_0 v_3 v_8 v_12\n"
     ]
    }
   ],
   "source": [
    "info = {}\n",
    "for ii, name in enumerate(feat_name[5:]):\n",
    "    print(name)\n",
    "    info['poly_feat_' + name.strip()] = mul_feat[:,ii+5]\n",
    "\n",
    "mul_feat_df = pd.DataFrame(info)"
   ]
  },
  {
   "cell_type": "code",
   "execution_count": 52,
   "metadata": {
    "ExecuteTime": {
     "end_time": "2020-08-26T17:55:02.077641Z",
     "start_time": "2020-08-26T17:55:02.073626Z"
    }
   },
   "outputs": [
    {
     "name": "stdout",
     "output_type": "stream",
     "text": [
      "(199037, 11)\n",
      "(199037, 178)\n"
     ]
    }
   ],
   "source": [
    "mul_feat_df.head()\n",
    "print(mul_feat_df.shape)\n",
    "print(merged_data.shape)"
   ]
  },
  {
   "cell_type": "code",
   "execution_count": 53,
   "metadata": {
    "ExecuteTime": {
     "end_time": "2020-08-26T17:55:08.808383Z",
     "start_time": "2020-08-26T17:55:08.689685Z"
    }
   },
   "outputs": [
    {
     "data": {
      "text/plain": [
       "poly_feat_v_0 v_3            -0.921635\n",
       "poly_feat_v_0 v_8             0.859377\n",
       "poly_feat_v_0 v_12            0.832402\n",
       "poly_feat_v_3 v_8            -0.785649\n",
       "poly_feat_v_3 v_12            0.011602\n",
       "poly_feat_v_8 v_12            0.673454\n",
       "poly_feat_v_0 v_3 v_8        -0.778799\n",
       "poly_feat_v_0 v_3 v_12       -0.037967\n",
       "poly_feat_v_0 v_8 v_12        0.702136\n",
       "poly_feat_v_3 v_8 v_12       -0.527982\n",
       "poly_feat_v_0 v_3 v_8 v_12   -0.537857\n",
       "price                         1.000000\n",
       "Name: price, dtype: float64"
      ]
     },
     "execution_count": 53,
     "metadata": {},
     "output_type": "execute_result"
    }
   ],
   "source": [
    "pd.concat([mul_feat_df, merged_data['price']], axis=1).corr()['price']"
   ]
  },
  {
   "cell_type": "code",
   "execution_count": 54,
   "metadata": {
    "ExecuteTime": {
     "end_time": "2020-08-26T17:55:09.918449Z",
     "start_time": "2020-08-26T17:55:09.602743Z"
    }
   },
   "outputs": [
    {
     "name": "stdout",
     "output_type": "stream",
     "text": [
      "(199037, 178)\n",
      "(199037, 189)\n"
     ]
    }
   ],
   "source": [
    "print(merged_data.shape)\n",
    "merged_data = pd.concat([merged_data, mul_feat_df], axis=1)\n",
    "print(merged_data.shape)\n"
   ]
  },
  {
   "cell_type": "code",
   "execution_count": 55,
   "metadata": {
    "ExecuteTime": {
     "end_time": "2020-08-26T17:55:18.780641Z",
     "start_time": "2020-08-26T17:55:18.777648Z"
    }
   },
   "outputs": [],
   "source": [
    "# polymerged_data_polyfeat.filter(regex=(\"poly.*\"))"
   ]
  },
  {
   "cell_type": "code",
   "execution_count": null,
   "metadata": {
    "ExecuteTime": {
     "end_time": "2020-08-26T17:53:24.700411Z",
     "start_time": "2020-08-26T17:53:21.932Z"
    }
   },
   "outputs": [],
   "source": [
    "merged_data.corr()['price'].to_csv('./data/corr.csv')"
   ]
  },
  {
   "cell_type": "code",
   "execution_count": 57,
   "metadata": {
    "ExecuteTime": {
     "end_time": "2020-08-26T17:55:33.463513Z",
     "start_time": "2020-08-26T17:55:33.458512Z"
    }
   },
   "outputs": [
    {
     "data": {
      "text/plain": [
       "Index(['SaleID', 'name', 'regDate', 'model', 'brand', 'power', 'kilometer',\n",
       "       'regionCode', 'seller', 'offerType',\n",
       "       ...\n",
       "       'poly_feat_v_0 v_8', 'poly_feat_v_0 v_12', 'poly_feat_v_3 v_8',\n",
       "       'poly_feat_v_3 v_12', 'poly_feat_v_8 v_12', 'poly_feat_v_0 v_3 v_8',\n",
       "       'poly_feat_v_0 v_3 v_12', 'poly_feat_v_0 v_8 v_12',\n",
       "       'poly_feat_v_3 v_8 v_12', 'poly_feat_v_0 v_3 v_8 v_12'],\n",
       "      dtype='object', length=189)"
      ]
     },
     "execution_count": 57,
     "metadata": {},
     "output_type": "execute_result"
    }
   ],
   "source": [
    "merged_data.columns"
   ]
  },
  {
   "cell_type": "code",
   "execution_count": 59,
   "metadata": {
    "ExecuteTime": {
     "end_time": "2020-08-26T17:55:45.743770Z",
     "start_time": "2020-08-26T17:55:45.738784Z"
    }
   },
   "outputs": [
    {
     "data": {
      "text/plain": [
       "(199037, 189)"
      ]
     },
     "execution_count": 59,
     "metadata": {},
     "output_type": "execute_result"
    }
   ],
   "source": [
    "merged_data.shape"
   ]
  },
  {
   "cell_type": "code",
   "execution_count": 60,
   "metadata": {
    "ExecuteTime": {
     "end_time": "2020-08-26T17:56:40.028637Z",
     "start_time": "2020-08-26T17:55:46.524529Z"
    }
   },
   "outputs": [],
   "source": [
    "# 保存数据给树模型用\n",
    "merged_data.to_csv('./data/merged_data_for_tree.gz',compression='gzip', index=0)"
   ]
  },
  {
   "cell_type": "markdown",
   "metadata": {},
   "source": [
    "<h2>继续构造特征给LR或NN使用<h2>"
   ]
  },
  {
   "cell_type": "code",
   "execution_count": null,
   "metadata": {},
   "outputs": [],
   "source": [
    "# 对特征进行归一化处理\n",
    "from sklearn.preprocessing import StandardScaler\n",
    "\n",
    "\n",
    "\n",
    "curr_scaler = StandardScaler()\n",
    "curr_scaler.fit(merged_data[merged_data['train']==1]['power'].values.reshape(-1, 1))\n",
    "curr_scaler.transform(merged_data['power'])\n",
    "\n",
    "\n",
    "\n",
    "# for feat in numerical_features:\n",
    "#     curr_scaler = StandardScaler()\n",
    "#     # reshape成2d array\n",
    "#     curr_scaler.fit(merged_data[merged_data['train']==1][feat].values.reshape(-1, 1))\n",
    "#     curr_scaler.transform"
   ]
  },
  {
   "cell_type": "code",
   "execution_count": null,
   "metadata": {},
   "outputs": [],
   "source": [
    "# 处理缺失值"
   ]
  },
  {
   "cell_type": "code",
   "execution_count": null,
   "metadata": {},
   "outputs": [],
   "source": [
    "Train_data['train']=1\n",
    "Test_data['train']=0\n",
    "data = pd.concat([Train_data, Test_data], ignore_index=True)\n",
    "print(data.columns)"
   ]
  },
  {
   "cell_type": "code",
   "execution_count": null,
   "metadata": {},
   "outputs": [],
   "source": [
    "print('bodyType\\n',Train_data_n['bodyType'].value_counts())\n",
    "print('fuelType\\n',Train_data_n['fuelType'].value_counts())\n",
    "print('gearbox\\n',Train_data_n['gearbox'].value_counts())\n",
    "print('notRepairedDamage\\n',Train_data_n['notRepairedDamage'].value_counts())\n",
    "print('notRepairedDamage\\n',Test_data['notRepairedDamage'].value_counts())"
   ]
  },
  {
   "cell_type": "code",
   "execution_count": null,
   "metadata": {},
   "outputs": [],
   "source": [
    "Train_data_n.isnull().sum()"
   ]
  },
  {
   "cell_type": "code",
   "execution_count": null,
   "metadata": {},
   "outputs": [],
   "source": [
    "Test_data[Test_data['bodyType'].isnull()].head()"
   ]
  },
  {
   "cell_type": "code",
   "execution_count": null,
   "metadata": {},
   "outputs": [],
   "source": [
    "# 处理notRepairedDamage的‘-’缺失值\n",
    "def replaceNotRepairedDamage(df):\n",
    "    df['notRepairedDamage'].replace('-', np.nan, inplace=True)\n",
    "    \n",
    "replaceNotRepairedDamage(Train_data_n)\n",
    "replaceNotRepairedDamage(Test_data)"
   ]
  },
  {
   "cell_type": "code",
   "execution_count": null,
   "metadata": {},
   "outputs": [],
   "source": [
    "print(Train_data_n['notRepairedDamage'].value_counts())"
   ]
  },
  {
   "cell_type": "code",
   "execution_count": null,
   "metadata": {},
   "outputs": [],
   "source": [
    "print(Test_data['notRepairedDamage'].value_counts())"
   ]
  },
  {
   "cell_type": "code",
   "execution_count": null,
   "metadata": {},
   "outputs": [],
   "source": []
  },
  {
   "cell_type": "code",
   "execution_count": null,
   "metadata": {},
   "outputs": [],
   "source": [
    "# 用众数填充gearbox和fueltype属性\n",
    "from sklearn.impute import SimpleImputer\n",
    "imp_mf = SimpleImputer(missing_values=np.nan, strategy='most_frequent')\n",
    "imp_mf.fit(Test_data)\n",
    "\n",
    "# 用训练集fit，用训练的scaler填充训练集和测试集\n",
    "imp_mf.transform(Train_data_n)\n",
    "imp_mf.transform(Test_data)"
   ]
  }
 ],
 "metadata": {
  "kernelspec": {
   "display_name": "Python 3",
   "language": "python",
   "name": "python3"
  },
  "language_info": {
   "codemirror_mode": {
    "name": "ipython",
    "version": 3
   },
   "file_extension": ".py",
   "mimetype": "text/x-python",
   "name": "python",
   "nbconvert_exporter": "python",
   "pygments_lexer": "ipython3",
   "version": "3.7.4"
  },
  "latex_envs": {
   "LaTeX_envs_menu_present": true,
   "autoclose": false,
   "autocomplete": true,
   "bibliofile": "biblio.bib",
   "cite_by": "apalike",
   "current_citInitial": 1,
   "eqLabelWithNumbers": true,
   "eqNumInitial": 1,
   "hotkeys": {
    "equation": "Ctrl-E",
    "itemize": "Ctrl-I"
   },
   "labels_anchors": false,
   "latex_user_defs": false,
   "report_style_numbering": false,
   "user_envs_cfg": false
  },
  "toc": {
   "base_numbering": 1,
   "nav_menu": {},
   "number_sections": true,
   "sideBar": true,
   "skip_h1_title": false,
   "title_cell": "Table of Contents",
   "title_sidebar": "Contents",
   "toc_cell": false,
   "toc_position": {},
   "toc_section_display": true,
   "toc_window_display": false
  }
 },
 "nbformat": 4,
 "nbformat_minor": 2
}
