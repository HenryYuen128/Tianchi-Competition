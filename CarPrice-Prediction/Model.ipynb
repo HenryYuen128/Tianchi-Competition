{
 "cells": [
  {
   "cell_type": "code",
   "execution_count": 1,
   "metadata": {
    "ExecuteTime": {
     "end_time": "2020-08-23T19:47:29.374461Z",
     "start_time": "2020-08-23T19:47:27.608693Z"
    }
   },
   "outputs": [],
   "source": [
    "# 加载包\n",
    "import numpy as np\n",
    "import xgboost as xgb\n",
    "import pandas as pd\n",
    "from sklearn.model_selection import cross_validate, cross_val_score"
   ]
  },
  {
   "cell_type": "code",
   "execution_count": 22,
   "metadata": {
    "ExecuteTime": {
     "end_time": "2020-08-23T20:19:02.806835Z",
     "start_time": "2020-08-23T20:18:59.480155Z"
    }
   },
   "outputs": [],
   "source": [
    "# 加载树模型数据集\n",
    "tree_data = pd.read_csv('./data/data_for_tree_polyfeat.gz')\n"
   ]
  },
  {
   "cell_type": "code",
   "execution_count": 23,
   "metadata": {
    "ExecuteTime": {
     "end_time": "2020-08-23T20:19:03.983769Z",
     "start_time": "2020-08-23T20:19:03.876029Z"
    }
   },
   "outputs": [
    {
     "name": "stdout",
     "output_type": "stream",
     "text": [
      "(149037, 99)\n",
      "(50000, 99)\n"
     ]
    }
   ],
   "source": [
    "x_train = tree_data[tree_data['train'] == 1]\n",
    "x_test = tree_data[tree_data['train'] == 0]\n",
    "print(x_train.shape)\n",
    "print(x_test.shape)"
   ]
  },
  {
   "cell_type": "code",
   "execution_count": 24,
   "metadata": {
    "ExecuteTime": {
     "end_time": "2020-08-23T20:19:04.425203Z",
     "start_time": "2020-08-23T20:19:04.418220Z"
    }
   },
   "outputs": [
    {
     "data": {
      "text/plain": [
       "Index(['SaleID', 'brand', 'creatDate', 'kilometer', 'model', 'name', 'power',\n",
       "       'price', 'regDate', 'regionCode', 'train', 'v_0', 'v_1', 'v_10', 'v_11',\n",
       "       'v_12', 'v_13', 'v_14', 'v_2', 'v_3', 'v_4', 'v_5', 'v_6', 'v_7', 'v_8',\n",
       "       'v_9', 'used_days', 'brand_amount', 'brand_price_avg',\n",
       "       'brand_price_max', 'brand_price_median', 'brand_price_min',\n",
       "       'brand_price_std', 'brand_price_sum', 'model_amount', 'model_price_avg',\n",
       "       'model_price_max', 'model_price_median', 'model_price_min',\n",
       "       'model_price_std', 'model_price_sum', 'bodyType_0.0', 'bodyType_1.0',\n",
       "       'bodyType_2.0', 'bodyType_3.0', 'bodyType_4.0', 'bodyType_5.0',\n",
       "       'bodyType_6.0', 'bodyType_7.0', 'fuelType_0.0', 'fuelType_1.0',\n",
       "       'fuelType_2.0', 'fuelType_3.0', 'fuelType_4.0', 'fuelType_5.0',\n",
       "       'fuelType_6.0', 'gearbox_0.0', 'gearbox_1.0', 'notRepairedDamage_0.0',\n",
       "       'notRepairedDamage_1.0', 'power_bin_0.0', 'power_bin_1.0',\n",
       "       'power_bin_2.0', 'power_bin_3.0', 'power_bin_4.0', 'power_bin_5.0',\n",
       "       'power_bin_6.0', 'power_bin_7.0', 'power_bin_8.0', 'power_bin_9.0',\n",
       "       'power_bin_10.0', 'power_bin_11.0', 'power_bin_12.0', 'power_bin_13.0',\n",
       "       'power_bin_14.0', 'power_bin_15.0', 'power_bin_16.0', 'power_bin_17.0',\n",
       "       'power_bin_18.0', 'power_bin_19.0', 'power_bin_20.0', 'power_bin_21.0',\n",
       "       'power_bin_22.0', 'power_bin_23.0', 'power_bin_24.0', 'power_bin_25.0',\n",
       "       'power_bin_26.0', 'power_bin_27.0', 'power_bin_28.0', 'power_bin_29.0',\n",
       "       'city_1.0', 'city_2.0', 'city_3.0', 'city_4.0', 'city_5.0', 'city_6.0',\n",
       "       'city_7.0', 'city_8.0', 'name_count'],\n",
       "      dtype='object')"
      ]
     },
     "execution_count": 24,
     "metadata": {},
     "output_type": "execute_result"
    }
   ],
   "source": [
    "x_train.columns"
   ]
  },
  {
   "cell_type": "code",
   "execution_count": 25,
   "metadata": {
    "ExecuteTime": {
     "end_time": "2020-08-23T20:19:05.968582Z",
     "start_time": "2020-08-23T20:19:05.961601Z"
    }
   },
   "outputs": [],
   "source": [
    "\n",
    "y_train = x_train['price']"
   ]
  },
  {
   "cell_type": "code",
   "execution_count": 26,
   "metadata": {
    "ExecuteTime": {
     "end_time": "2020-08-23T20:19:06.832675Z",
     "start_time": "2020-08-23T20:19:06.707451Z"
    }
   },
   "outputs": [
    {
     "name": "stdout",
     "output_type": "stream",
     "text": [
      "(149037, 96)\n"
     ]
    }
   ],
   "source": [
    "del x_train['price']\n",
    "del x_train['train']\n",
    "del x_train['SaleID']\n",
    "print(x_train.shape)"
   ]
  },
  {
   "cell_type": "code",
   "execution_count": 27,
   "metadata": {
    "ExecuteTime": {
     "end_time": "2020-08-23T20:19:07.827088Z",
     "start_time": "2020-08-23T20:19:07.812425Z"
    }
   },
   "outputs": [
    {
     "data": {
      "text/plain": [
       "Index(['SaleID', 'brand', 'creatDate', 'kilometer', 'model', 'name', 'power',\n",
       "       'price', 'regDate', 'regionCode', 'train', 'v_0', 'v_1', 'v_10', 'v_11',\n",
       "       'v_12', 'v_13', 'v_14', 'v_2', 'v_3', 'v_4', 'v_5', 'v_6', 'v_7', 'v_8',\n",
       "       'v_9', 'used_days', 'brand_amount', 'brand_price_avg',\n",
       "       'brand_price_max', 'brand_price_median', 'brand_price_min',\n",
       "       'brand_price_std', 'brand_price_sum', 'model_amount', 'model_price_avg',\n",
       "       'model_price_max', 'model_price_median', 'model_price_min',\n",
       "       'model_price_std', 'model_price_sum', 'bodyType_0.0', 'bodyType_1.0',\n",
       "       'bodyType_2.0', 'bodyType_3.0', 'bodyType_4.0', 'bodyType_5.0',\n",
       "       'bodyType_6.0', 'bodyType_7.0', 'fuelType_0.0', 'fuelType_1.0',\n",
       "       'fuelType_2.0', 'fuelType_3.0', 'fuelType_4.0', 'fuelType_5.0',\n",
       "       'fuelType_6.0', 'gearbox_0.0', 'gearbox_1.0', 'notRepairedDamage_0.0',\n",
       "       'notRepairedDamage_1.0', 'power_bin_0.0', 'power_bin_1.0',\n",
       "       'power_bin_2.0', 'power_bin_3.0', 'power_bin_4.0', 'power_bin_5.0',\n",
       "       'power_bin_6.0', 'power_bin_7.0', 'power_bin_8.0', 'power_bin_9.0',\n",
       "       'power_bin_10.0', 'power_bin_11.0', 'power_bin_12.0', 'power_bin_13.0',\n",
       "       'power_bin_14.0', 'power_bin_15.0', 'power_bin_16.0', 'power_bin_17.0',\n",
       "       'power_bin_18.0', 'power_bin_19.0', 'power_bin_20.0', 'power_bin_21.0',\n",
       "       'power_bin_22.0', 'power_bin_23.0', 'power_bin_24.0', 'power_bin_25.0',\n",
       "       'power_bin_26.0', 'power_bin_27.0', 'power_bin_28.0', 'power_bin_29.0',\n",
       "       'city_1.0', 'city_2.0', 'city_3.0', 'city_4.0', 'city_5.0', 'city_6.0',\n",
       "       'city_7.0', 'city_8.0', 'name_count'],\n",
       "      dtype='object')"
      ]
     },
     "execution_count": 27,
     "metadata": {},
     "output_type": "execute_result"
    }
   ],
   "source": [
    "x_test.columns"
   ]
  },
  {
   "cell_type": "code",
   "execution_count": 28,
   "metadata": {
    "ExecuteTime": {
     "end_time": "2020-08-23T20:19:09.349875Z",
     "start_time": "2020-08-23T20:19:09.303998Z"
    }
   },
   "outputs": [
    {
     "name": "stdout",
     "output_type": "stream",
     "text": [
      "(50000, 96)\n"
     ]
    }
   ],
   "source": [
    "del x_test['train']\n",
    "del x_test['price']\n",
    "del x_test['SaleID']\n",
    "print(x_test.shape)"
   ]
  },
  {
   "cell_type": "code",
   "execution_count": 29,
   "metadata": {
    "ExecuteTime": {
     "end_time": "2020-08-23T20:27:42.055991Z",
     "start_time": "2020-08-23T20:19:28.477308Z"
    }
   },
   "outputs": [
    {
     "name": "stderr",
     "output_type": "stream",
     "text": [
      "D:\\anaconda3\\lib\\site-packages\\xgboost\\core.py:587: FutureWarning: Series.base is deprecated and will be removed in a future version\n",
      "  if getattr(data, 'base', None) is not None and \\\n",
      "D:\\anaconda3\\lib\\site-packages\\xgboost\\core.py:587: FutureWarning: Series.base is deprecated and will be removed in a future version\n",
      "  if getattr(data, 'base', None) is not None and \\\n",
      "D:\\anaconda3\\lib\\site-packages\\xgboost\\core.py:587: FutureWarning: Series.base is deprecated and will be removed in a future version\n",
      "  if getattr(data, 'base', None) is not None and \\\n",
      "D:\\anaconda3\\lib\\site-packages\\xgboost\\core.py:587: FutureWarning: Series.base is deprecated and will be removed in a future version\n",
      "  if getattr(data, 'base', None) is not None and \\\n",
      "D:\\anaconda3\\lib\\site-packages\\xgboost\\core.py:587: FutureWarning: Series.base is deprecated and will be removed in a future version\n",
      "  if getattr(data, 'base', None) is not None and \\\n"
     ]
    }
   ],
   "source": [
    "xgb_model = xgb.XGBRegressor(max_depth=5, learning_rate=0.1, n_estimators=180, silent=False, objective='reg:gamma')\n",
    "\n",
    "cv_results = cross_validate(xgb_model, x_train, y_train, cv=5,scoring=('neg_mean_squared_error'), return_train_score=False)"
   ]
  },
  {
   "cell_type": "code",
   "execution_count": 30,
   "metadata": {
    "ExecuteTime": {
     "end_time": "2020-08-23T20:27:49.624662Z",
     "start_time": "2020-08-23T20:27:49.611696Z"
    }
   },
   "outputs": [
    {
     "data": {
      "text/plain": [
       "{'fit_time': array([ 95.64165974,  96.77659655,  96.91544676,  99.98053122,\n",
       "        102.16769361]),\n",
       " 'score_time': array([0.36953974, 0.36602283, 0.34613967, 0.45531058, 0.37367272]),\n",
       " 'test_score': array([-0.05902996, -0.05994401, -0.06000219, -0.05638204, -0.05871848])}"
      ]
     },
     "execution_count": 30,
     "metadata": {},
     "output_type": "execute_result"
    }
   ],
   "source": [
    "cv_results"
   ]
  },
  {
   "cell_type": "code",
   "execution_count": 32,
   "metadata": {
    "ExecuteTime": {
     "end_time": "2020-08-23T20:44:07.219586Z",
     "start_time": "2020-08-23T20:44:07.215515Z"
    }
   },
   "outputs": [
    {
     "data": {
      "text/plain": [
       "(149037, 96)"
      ]
     },
     "execution_count": 32,
     "metadata": {},
     "output_type": "execute_result"
    }
   ],
   "source": [
    "x_train.shape"
   ]
  },
  {
   "cell_type": "code",
   "execution_count": 34,
   "metadata": {
    "ExecuteTime": {
     "end_time": "2020-08-23T20:46:31.322089Z",
     "start_time": "2020-08-23T20:44:18.445033Z"
    }
   },
   "outputs": [
    {
     "name": "stderr",
     "output_type": "stream",
     "text": [
      "D:\\anaconda3\\lib\\site-packages\\xgboost\\core.py:587: FutureWarning: Series.base is deprecated and will be removed in a future version\n",
      "  if getattr(data, 'base', None) is not None and \\\n",
      "D:\\anaconda3\\lib\\site-packages\\xgboost\\core.py:588: FutureWarning: Series.base is deprecated and will be removed in a future version\n",
      "  data.base is not None and isinstance(data, np.ndarray) \\\n"
     ]
    },
    {
     "data": {
      "text/plain": [
       "XGBRegressor(base_score=0.5, booster='gbtree', colsample_bylevel=1,\n",
       "       colsample_bynode=1, colsample_bytree=1, gamma=0,\n",
       "       importance_type='gain', learning_rate=0.1, max_delta_step=0,\n",
       "       max_depth=5, min_child_weight=1, missing=None, n_estimators=180,\n",
       "       n_jobs=1, nthread=None, objective='reg:gamma', random_state=0,\n",
       "       reg_alpha=0, reg_lambda=1, scale_pos_weight=1, seed=None,\n",
       "       silent=False, subsample=1, verbosity=1)"
      ]
     },
     "execution_count": 34,
     "metadata": {},
     "output_type": "execute_result"
    }
   ],
   "source": [
    "xgb_model.fit(x_train,y_train)"
   ]
  },
  {
   "cell_type": "code",
   "execution_count": 11,
   "metadata": {
    "ExecuteTime": {
     "end_time": "2020-08-23T20:08:20.288133Z",
     "start_time": "2020-08-23T20:08:20.285715Z"
    }
   },
   "outputs": [],
   "source": [
    "# 'test_score': array([-0.05987379, -0.06085984, -0.06063599, -0.05704776, -0.0601257 ])\n",
    "#'test_score': array([-2127672.27979   , -2333559.64635211, -2754707.60496724, -2168651.4042855 , -2692911.47969572])"
   ]
  },
  {
   "cell_type": "code",
   "execution_count": 39,
   "metadata": {
    "ExecuteTime": {
     "end_time": "2020-08-23T20:55:56.466201Z",
     "start_time": "2020-08-23T20:55:55.967685Z"
    }
   },
   "outputs": [],
   "source": [
    "preds = np.expm1(xgb_model.predict(x_test))"
   ]
  },
  {
   "cell_type": "code",
   "execution_count": 41,
   "metadata": {
    "ExecuteTime": {
     "end_time": "2020-08-23T20:56:10.407567Z",
     "start_time": "2020-08-23T20:56:10.235967Z"
    }
   },
   "outputs": [],
   "source": [
    "res = {}\n",
    "res['SaleID'] = tree_data[tree_data['train']==0]['SaleID']\n",
    "res['price'] = preds\n",
    "\n",
    "res_df = pd.DataFrame(res)\n",
    "\n",
    "res_df.to_csv('./data/result_xgb_polyfea.csv', index=None)"
   ]
  },
  {
   "cell_type": "code",
   "execution_count": 42,
   "metadata": {
    "ExecuteTime": {
     "end_time": "2020-08-23T20:56:11.570868Z",
     "start_time": "2020-08-23T20:56:11.565881Z"
    }
   },
   "outputs": [
    {
     "name": "stdout",
     "output_type": "stream",
     "text": [
      "        SaleID        price\n",
      "149037  200000  1302.846191\n",
      "149038  200001  1742.252075\n",
      "149039  200002  6942.624512\n",
      "149040  200003  1129.843750\n",
      "149041  200004  1944.718628\n"
     ]
    }
   ],
   "source": [
    "print(res_df.head())"
   ]
  },
  {
   "cell_type": "code",
   "execution_count": 48,
   "metadata": {},
   "outputs": [
    {
     "name": "stdout",
     "output_type": "stream",
     "text": [
      "['1', 'x0', 'x1', 'x0 x1']\n",
      "[[1. 1. 3. 3.]\n",
      " [1. 2. 4. 8.]]\n"
     ]
    }
   ],
   "source": [
    "c = {'a':[1,2], 'b':[3,4]}\n",
    "d = pd.DataFrame(c)\n",
    "from sklearn.preprocessing import PolynomialFeatures\n",
    "poly = PolynomialFeatures(2, interaction_only=True)\n",
    "d = poly.fit_transform(d)\n",
    "print(poly.get_feature_names())\n",
    "print(d)"
   ]
  }
 ],
 "metadata": {
  "kernelspec": {
   "display_name": "Python 3",
   "language": "python",
   "name": "python3"
  },
  "language_info": {
   "codemirror_mode": {
    "name": "ipython",
    "version": 3
   },
   "file_extension": ".py",
   "mimetype": "text/x-python",
   "name": "python",
   "nbconvert_exporter": "python",
   "pygments_lexer": "ipython3",
   "version": "3.7.4"
  },
  "latex_envs": {
   "LaTeX_envs_menu_present": true,
   "autoclose": false,
   "autocomplete": true,
   "bibliofile": "biblio.bib",
   "cite_by": "apalike",
   "current_citInitial": 1,
   "eqLabelWithNumbers": true,
   "eqNumInitial": 1,
   "hotkeys": {
    "equation": "Ctrl-E",
    "itemize": "Ctrl-I"
   },
   "labels_anchors": false,
   "latex_user_defs": false,
   "report_style_numbering": false,
   "user_envs_cfg": false
  },
  "toc": {
   "base_numbering": 1,
   "nav_menu": {},
   "number_sections": true,
   "sideBar": true,
   "skip_h1_title": false,
   "title_cell": "Table of Contents",
   "title_sidebar": "Contents",
   "toc_cell": false,
   "toc_position": {},
   "toc_section_display": true,
   "toc_window_display": false
  }
 },
 "nbformat": 4,
 "nbformat_minor": 2
}
